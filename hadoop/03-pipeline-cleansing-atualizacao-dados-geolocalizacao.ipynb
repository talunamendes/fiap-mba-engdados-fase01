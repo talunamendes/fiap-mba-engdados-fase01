{
 "cells": [
  {
   "cell_type": "markdown",
   "metadata": {},
   "source": [
    "###  Olist dataset\n",
    "\n",
    "##### Consumers dataset\n",
    "https://www.kaggle.com/datasets/olistbr/brazilian-ecommerce?select=olist_customers_dataset.csv\n",
    "\n",
    "##### Sellers dataset\n",
    "https://www.kaggle.com/datasets/olistbr/brazilian-ecommerce?select=olist_sellers_dataset.csv\n",
    "\n",
    "##### Geolocation dataset\n",
    "https://www.kaggle.com/datasets/olistbr/brazilian-ecommerce?select=olist_geolocation_dataset.csv\n",
    "\n",
    "**OBJETIVO**\n",
    "\n",
    "Ao final desse notebook uma tabela de geolocalizacao deve ser gerada no Hive com todos os seus dados atualizados. \n"
   ]
  },
  {
   "cell_type": "markdown",
   "metadata": {},
   "source": [
    "### B) Validação do geolocation dataset\n",
    "\n",
    "- carregar os dados do geolocation dataset para dataframe **(geolocation_df)** \n",
    "\n",
    "- validar se existe CEPs nulos em **(geolocation_df)**\n",
    "    - caso seja encontrado, analisar o percentual em relação ao total de registros. \n",
    "        - Remover esses registros dos dataframes por questão de facilidade e celeridade por se tratar de trabalho academico. Entretanto em projeto real, isso seria validado de alguma maneira (talvez analisando o percentual de casos em relacao ao total de registros e vendo uma forma de obter os valores corretos vindos da fonte)\n",
    "\n",
    "- validar se existe CEPs com menos de 5 digitos no **(geolocation_df)**\n",
    "    - caso seja encontrado, analisar o percentual em relação ao total de registros. \n",
    "        - colocar em dataframe separado para analisar se vai levar ou não em consideração.\n",
    "\n",
    "\n"
   ]
  },
  {
   "cell_type": "code",
   "execution_count": 1,
   "metadata": {},
   "outputs": [],
   "source": [
    "import pyspark\n",
    "from pyspark.sql import SparkSession\n",
    "from pyspark.sql.functions import col, length, udf\n",
    "from pyspark.sql.types import StructType, StringType, DoubleType\n",
    "import time\n",
    "\n",
    "spark = SparkSession.builder\\\n",
    "    .master(\"local\") \\\n",
    "    .appName(\"update_geolocalization\")\\\n",
    "    .enableHiveSupport()\\\n",
    "    .getOrCreate()"
   ]
  },
  {
   "cell_type": "code",
   "execution_count": 2,
   "metadata": {},
   "outputs": [
    {
     "name": "stdout",
     "output_type": "stream",
     "text": [
      "1000163\n",
      "root\n",
      " |-- geolocation_zip_code_prefix: string (nullable = true)\n",
      " |-- geolocation_lat: double (nullable = true)\n",
      " |-- geolocation_lng: double (nullable = true)\n",
      " |-- geolocation_city: string (nullable = true)\n",
      " |-- geolocation_state: string (nullable = true)\n",
      "\n",
      "None\n"
     ]
    },
    {
     "data": {
      "text/plain": [
       "DataFrame[geolocation_zip_code_prefix: string, geolocation_lat: double, geolocation_lng: double, geolocation_city: string, geolocation_state: string]"
      ]
     },
     "execution_count": 2,
     "metadata": {},
     "output_type": "execute_result"
    }
   ],
   "source": [
    "schema = StructType() \\\n",
    "      .add(\"geolocation_zip_code_prefix\",StringType(),True) \\\n",
    "      .add(\"geolocation_lat\",DoubleType(),True) \\\n",
    "      .add(\"geolocation_lng\",DoubleType(),True) \\\n",
    "      .add(\"geolocation_city\",StringType(),True) \\\n",
    "      .add(\"geolocation_state\",StringType(),True) \n",
    "\n",
    "\n",
    "geolocation_df = spark.read.option(\"header\",True) \\\n",
    "                       .option(\"delimiter\",\",\") \\\n",
    "                       .schema(schema) \\\n",
    "                       .csv(\"hdfs://namenode:8020/datalake/olist/raw/csv/olist_geolocation_dataset.csv\")\n",
    "\n",
    "print(geolocation_df.count())\n",
    "print(geolocation_df.printSchema())\n",
    "geolocation_df.cache()"
   ]
  },
  {
   "cell_type": "code",
   "execution_count": 3,
   "metadata": {},
   "outputs": [
    {
     "name": "stdout",
     "output_type": "stream",
     "text": [
      "19015\n"
     ]
    }
   ],
   "source": [
    "geoclocation_cep_distinct_df = geolocation_df.select(\"geolocation_zip_code_prefix\").distinct()\n",
    "geoclocation_cep_distinct_df.cache()\n",
    "\n",
    "print(geoclocation_cep_distinct_df.count())\n"
   ]
  },
  {
   "cell_type": "code",
   "execution_count": 4,
   "metadata": {},
   "outputs": [],
   "source": [
    "def formatCep(cep):\n",
    "    cep_formatado = cep\n",
    "    \n",
    "    cep_formatado.zfill(5)\n",
    "    \n",
    "    if(len(cep_formatado) == 5):\n",
    "        cep_formatado = cep_formatado + \"-000\"\n",
    "        \n",
    "    return cep_formatado\n",
    "\n",
    "formatCepUDF = udf(lambda z:formatCep(z),StringType())   \n"
   ]
  },
  {
   "cell_type": "code",
   "execution_count": 5,
   "metadata": {},
   "outputs": [
    {
     "data": {
      "text/plain": [
       "DataFrame[geolocation_zip_code_prefix: string]"
      ]
     },
     "execution_count": 5,
     "metadata": {},
     "output_type": "execute_result"
    }
   ],
   "source": [
    "geolocation_formattedCep_distinct_df = geoclocation_cep_distinct_df.select(formatCepUDF(col(\"geolocation_zip_code_prefix\")).alias(\"geolocation_zip_code_prefix\"))\\\n",
    "                                                                .sort(\"geolocation_zip_code_prefix\")\n",
    "\n",
    "geolocation_formattedCep_distinct_df.cache()\n"
   ]
  },
  {
   "cell_type": "code",
   "execution_count": 6,
   "metadata": {},
   "outputs": [
    {
     "name": "stdout",
     "output_type": "stream",
     "text": [
      "+---------------------------+\n",
      "|geolocation_zip_code_prefix|\n",
      "+---------------------------+\n",
      "|                  01001-000|\n",
      "|                  01002-000|\n",
      "|                  01003-000|\n",
      "|                  01004-000|\n",
      "|                  01005-000|\n",
      "|                  01006-000|\n",
      "|                  01007-000|\n",
      "|                  01008-000|\n",
      "|                  01009-000|\n",
      "|                  01010-000|\n",
      "|                  01011-000|\n",
      "|                  01012-000|\n",
      "|                  01013-000|\n",
      "|                  01014-000|\n",
      "|                  01015-000|\n",
      "|                  01016-000|\n",
      "|                  01017-000|\n",
      "|                  01018-000|\n",
      "|                  01019-000|\n",
      "|                  01020-000|\n",
      "+---------------------------+\n",
      "only showing top 20 rows\n",
      "\n"
     ]
    }
   ],
   "source": [
    "geolocation_formattedCep_distinct_df.show()"
   ]
  },
  {
   "cell_type": "code",
   "execution_count": 34,
   "metadata": {},
   "outputs": [
    {
     "name": "stdout",
     "output_type": "stream",
     "text": [
      "Collecting pycep-correios\n",
      "  Downloading pycep_correios-5.0.0-py2.py3-none-any.whl (7.1 kB)\n",
      "Collecting zeep>=2.0.0\n",
      "  Downloading zeep-4.1.0-py2.py3-none-any.whl (100 kB)\n",
      "\u001b[K     |████████████████████████████████| 100 kB 5.3 MB/s ta 0:00:01\n",
      "\u001b[?25hRequirement already satisfied: requests>=2.7.0 in /opt/anaconda3/lib/python3.6/site-packages (from pycep-correios) (2.18.4)\n",
      "Requirement already satisfied: attrs>=17.2.0 in /opt/anaconda3/lib/python3.6/site-packages (from zeep>=2.0.0->pycep-correios) (18.1.0)\n",
      "Collecting isodate>=0.5.4\n",
      "  Downloading isodate-0.6.1-py2.py3-none-any.whl (41 kB)\n",
      "\u001b[K     |████████████████████████████████| 41 kB 1.0 MB/s  eta 0:00:01\n",
      "\u001b[?25hCollecting cached-property>=1.3.0\n",
      "  Downloading cached_property-1.5.2-py2.py3-none-any.whl (7.6 kB)\n",
      "Collecting lxml>=4.6.0\n",
      "  Downloading lxml-4.8.0-cp36-cp36m-manylinux_2_17_x86_64.manylinux2014_x86_64.manylinux_2_24_x86_64.whl (6.4 MB)\n",
      "\u001b[K     |████████████████████████████████| 6.4 MB 13.5 MB/s eta 0:00:01\n",
      "\u001b[?25hRequirement already satisfied: pytz in /opt/anaconda3/lib/python3.6/site-packages (from zeep>=2.0.0->pycep-correios) (2019.3)\n",
      "Collecting requests-file>=1.5.1\n",
      "  Downloading requests_file-1.5.1-py2.py3-none-any.whl (3.7 kB)\n",
      "Collecting requests-toolbelt>=0.7.1\n",
      "  Downloading requests_toolbelt-0.9.1-py2.py3-none-any.whl (54 kB)\n",
      "\u001b[K     |████████████████████████████████| 54 kB 5.1 MB/s  eta 0:00:01\n",
      "\u001b[?25hCollecting platformdirs>=1.4.0\n",
      "  Downloading platformdirs-2.4.0-py3-none-any.whl (14 kB)\n",
      "Requirement already satisfied: chardet<3.1.0,>=3.0.2 in /opt/anaconda3/lib/python3.6/site-packages (from requests>=2.7.0->pycep-correios) (3.0.4)\n",
      "Requirement already satisfied: idna<2.7,>=2.5 in /opt/anaconda3/lib/python3.6/site-packages (from requests>=2.7.0->pycep-correios) (2.6)\n",
      "Requirement already satisfied: urllib3<1.23,>=1.21.1 in /opt/anaconda3/lib/python3.6/site-packages (from requests>=2.7.0->pycep-correios) (1.22)\n",
      "Requirement already satisfied: certifi>=2017.4.17 in /opt/anaconda3/lib/python3.6/site-packages (from requests>=2.7.0->pycep-correios) (2019.11.28)\n",
      "Requirement already satisfied: six in /opt/anaconda3/lib/python3.6/site-packages (from isodate>=0.5.4->zeep>=2.0.0->pycep-correios) (1.14.0)\n",
      "Installing collected packages: isodate, cached-property, lxml, requests-file, requests-toolbelt, platformdirs, zeep, pycep-correios\n",
      "  Attempting uninstall: lxml\n",
      "    Found existing installation: lxml 4.2.1\n",
      "    Uninstalling lxml-4.2.1:\n",
      "      Successfully uninstalled lxml-4.2.1\n",
      "Successfully installed cached-property-1.5.2 isodate-0.6.1 lxml-4.8.0 platformdirs-2.4.0 pycep-correios-5.0.0 requests-file-1.5.1 requests-toolbelt-0.9.1 zeep-4.1.0\n"
     ]
    }
   ],
   "source": [
    "! pip install pycep-correios"
   ]
  },
  {
   "cell_type": "code",
   "execution_count": 35,
   "metadata": {},
   "outputs": [],
   "source": [
    "from pycep_correios import get_address_from_cep, WebService, exceptions\n",
    "\n",
    "\n",
    "def addAddressByCorreios(row):    \n",
    "    rowDict = row.asDict()\n",
    "    cep = rowDict.get(\"geolocation_zip_code_prefix\")\n",
    "    print(cep)\n",
    "\n",
    "    try:\n",
    "        address_json = get_address_from_cep(str(cep), webservice=WebService.VIACEP)\n",
    "        rowDict[\"geolocation_city\"] = address_json[\"cidade\"]\n",
    "        rowDict[\"geolocation_state\"] = address_json[\"uf\"]\n",
    "        rowDict[\"geolocation_street\"] = address_json[\"logradouro\"]\n",
    "        \n",
    "    except exceptions.CEPNotFound as ecnf:\n",
    "        rowDict[\"geolocation_city\"] = ''\n",
    "        rowDict[\"geolocation_state\"] = ''\n",
    "        rowDict[\"geolocation_street\"] = ''\n",
    "\n",
    "    except exceptions.ConnectionError as errc:\n",
    "        rowDict[\"geolocation_city\"] = '-1'\n",
    "        rowDict[\"geolocation_state\"] = '-1'\n",
    "        rowDict[\"geolocation_street\"] = '-1'\n",
    "        \n",
    "    except exceptions.InvalidCEP as icnf:\n",
    "        rowDict[\"geolocation_city\"] = '-2'\n",
    "        rowDict[\"geolocation_state\"] = '-2'\n",
    "        rowDict[\"geolocation_street\"] = '-2'\n",
    "    \n",
    "    print(rowDict)\n",
    "    return rowDict"
   ]
  },
  {
   "cell_type": "code",
   "execution_count": 36,
   "metadata": {},
   "outputs": [],
   "source": [
    "geolocation_formattedCep_rows = geolocation_formattedCep_distinct_df.collect()"
   ]
  },
  {
   "cell_type": "code",
   "execution_count": 37,
   "metadata": {},
   "outputs": [
    {
     "name": "stdout",
     "output_type": "stream",
     "text": [
      "01001-000\n",
      "{'geolocation_zip_code_prefix': '01001-000', 'geolocation_city': 'São Paulo', 'geolocation_state': 'SP', 'geolocation_street': 'Praça da Sé'}\n",
      "01002-000\n",
      "{'geolocation_zip_code_prefix': '01002-000', 'geolocation_city': 'São Paulo', 'geolocation_state': 'SP', 'geolocation_street': 'Rua Direita'}\n",
      "01003-000\n",
      "{'geolocation_zip_code_prefix': '01003-000', 'geolocation_city': 'São Paulo', 'geolocation_state': 'SP', 'geolocation_street': 'Rua José Bonifácio'}\n",
      "01004-000\n",
      "{'geolocation_zip_code_prefix': '01004-000', 'geolocation_city': 'São Paulo', 'geolocation_state': 'SP', 'geolocation_street': 'Rua Barão de Paranapiacaba'}\n",
      "01005-000\n",
      "{'geolocation_zip_code_prefix': '01005-000', 'geolocation_city': 'São Paulo', 'geolocation_state': 'SP', 'geolocation_street': 'Rua Benjamim Constant'}\n",
      "01006-000\n",
      "{'geolocation_zip_code_prefix': '01006-000', 'geolocation_city': 'São Paulo', 'geolocation_state': 'SP', 'geolocation_street': 'Rua Senador Feijó'}\n",
      "01007-000\n",
      "{'geolocation_zip_code_prefix': '01007-000', 'geolocation_city': 'São Paulo', 'geolocation_state': 'SP', 'geolocation_street': 'Rua Riachuelo'}\n",
      "01008-000\n",
      "{'geolocation_zip_code_prefix': '01008-000', 'geolocation_city': 'São Paulo', 'geolocation_state': 'SP', 'geolocation_street': 'Rua Líbero Badaró'}\n",
      "01009-000\n",
      "{'geolocation_zip_code_prefix': '01009-000', 'geolocation_city': 'São Paulo', 'geolocation_state': 'SP', 'geolocation_street': 'Rua Líbero Badaró'}\n",
      "01010-000\n",
      "{'geolocation_zip_code_prefix': '01010-000', 'geolocation_city': 'São Paulo', 'geolocation_state': 'SP', 'geolocation_street': 'Rua São Bento'}\n",
      "01011-000\n",
      "{'geolocation_zip_code_prefix': '01011-000', 'geolocation_city': 'São Paulo', 'geolocation_state': 'SP', 'geolocation_street': 'Rua São Bento'}\n",
      "01012-000\n",
      "{'geolocation_zip_code_prefix': '01012-000', 'geolocation_city': 'São Paulo', 'geolocation_state': 'SP', 'geolocation_street': 'Rua Álvares Penteado'}\n",
      "01013-000\n",
      "{'geolocation_zip_code_prefix': '01013-000', 'geolocation_city': 'São Paulo', 'geolocation_state': 'SP', 'geolocation_street': 'Rua Quinze de Novembro'}\n",
      "01014-000\n",
      "{'geolocation_zip_code_prefix': '01014-000', 'geolocation_city': 'São Paulo', 'geolocation_state': 'SP', 'geolocation_street': 'Rua Boa Vista'}\n",
      "01015-000\n",
      "{'geolocation_zip_code_prefix': '01015-000', 'geolocation_city': 'São Paulo', 'geolocation_state': 'SP', 'geolocation_street': 'Rua General Carneiro'}\n",
      "01016-000\n",
      "{'geolocation_zip_code_prefix': '01016-000', 'geolocation_city': 'São Paulo', 'geolocation_state': 'SP', 'geolocation_street': 'Rua Venceslau Brás'}\n",
      "01017-000\n",
      "{'geolocation_zip_code_prefix': '01017-000', 'geolocation_city': 'São Paulo', 'geolocation_state': 'SP', 'geolocation_street': 'Avenida Rangel Pestana'}\n",
      "01018-000\n",
      "{'geolocation_zip_code_prefix': '01018-000', 'geolocation_city': 'São Paulo', 'geolocation_state': 'SP', 'geolocation_street': 'Praça Clóvis Beviláqua'}\n",
      "01019-000\n",
      "{'geolocation_zip_code_prefix': '01019-000', 'geolocation_city': 'São Paulo', 'geolocation_state': 'SP', 'geolocation_street': 'Rua Silveira Martins'}\n",
      "01020-000\n",
      "{'geolocation_zip_code_prefix': '01020-000', 'geolocation_city': 'São Paulo', 'geolocation_state': 'SP', 'geolocation_street': 'Rua Tabatinguera'}\n",
      "01021-000\n"
     ]
    },
    {
     "ename": "KeyboardInterrupt",
     "evalue": "",
     "output_type": "error",
     "traceback": [
      "\u001b[0;31m---------------------------------------------------------------------------\u001b[0m",
      "\u001b[0;31mKeyboardInterrupt\u001b[0m                         Traceback (most recent call last)",
      "\u001b[0;32m<ipython-input-37-d1f23b67a1b5>\u001b[0m in \u001b[0;36m<module>\u001b[0;34m()\u001b[0m\n\u001b[1;32m      1\u001b[0m geolocation_formattedCep_address = [\n\u001b[0;32m----> 2\u001b[0;31m     addAddressByCorreios(row) for row in geolocation_formattedCep_rows]\n\u001b[0m",
      "\u001b[0;32m<ipython-input-37-d1f23b67a1b5>\u001b[0m in \u001b[0;36m<listcomp>\u001b[0;34m(.0)\u001b[0m\n\u001b[1;32m      1\u001b[0m geolocation_formattedCep_address = [\n\u001b[0;32m----> 2\u001b[0;31m     addAddressByCorreios(row) for row in geolocation_formattedCep_rows]\n\u001b[0m",
      "\u001b[0;32m<ipython-input-35-2f0892b1aa1e>\u001b[0m in \u001b[0;36maddAddressByCorreios\u001b[0;34m(row)\u001b[0m\n\u001b[1;32m      8\u001b[0m \u001b[0;34m\u001b[0m\u001b[0m\n\u001b[1;32m      9\u001b[0m     \u001b[0;32mtry\u001b[0m\u001b[0;34m:\u001b[0m\u001b[0;34m\u001b[0m\u001b[0;34m\u001b[0m\u001b[0m\n\u001b[0;32m---> 10\u001b[0;31m         \u001b[0maddress_json\u001b[0m \u001b[0;34m=\u001b[0m \u001b[0mget_address_from_cep\u001b[0m\u001b[0;34m(\u001b[0m\u001b[0mstr\u001b[0m\u001b[0;34m(\u001b[0m\u001b[0mcep\u001b[0m\u001b[0;34m)\u001b[0m\u001b[0;34m,\u001b[0m \u001b[0mwebservice\u001b[0m\u001b[0;34m=\u001b[0m\u001b[0mWebService\u001b[0m\u001b[0;34m.\u001b[0m\u001b[0mVIACEP\u001b[0m\u001b[0;34m)\u001b[0m\u001b[0;34m\u001b[0m\u001b[0;34m\u001b[0m\u001b[0m\n\u001b[0m\u001b[1;32m     11\u001b[0m         \u001b[0mrowDict\u001b[0m\u001b[0;34m[\u001b[0m\u001b[0;34m\"geolocation_city\"\u001b[0m\u001b[0;34m]\u001b[0m \u001b[0;34m=\u001b[0m \u001b[0maddress_json\u001b[0m\u001b[0;34m[\u001b[0m\u001b[0;34m\"cidade\"\u001b[0m\u001b[0;34m]\u001b[0m\u001b[0;34m\u001b[0m\u001b[0;34m\u001b[0m\u001b[0m\n\u001b[1;32m     12\u001b[0m         \u001b[0mrowDict\u001b[0m\u001b[0;34m[\u001b[0m\u001b[0;34m\"geolocation_state\"\u001b[0m\u001b[0;34m]\u001b[0m \u001b[0;34m=\u001b[0m \u001b[0maddress_json\u001b[0m\u001b[0;34m[\u001b[0m\u001b[0;34m\"uf\"\u001b[0m\u001b[0;34m]\u001b[0m\u001b[0;34m\u001b[0m\u001b[0;34m\u001b[0m\u001b[0m\n",
      "\u001b[0;32m/opt/anaconda3/lib/python3.6/site-packages/pycep_correios/client.py\u001b[0m in \u001b[0;36mget_address_from_cep\u001b[0;34m(cep, webservice)\u001b[0m\n\u001b[1;32m     35\u001b[0m \u001b[0;34m\u001b[0m\u001b[0m\n\u001b[1;32m     36\u001b[0m     \u001b[0;32mif\u001b[0m \u001b[0mwebservice\u001b[0m \u001b[0;34m==\u001b[0m \u001b[0mWebService\u001b[0m\u001b[0;34m.\u001b[0m\u001b[0mVIACEP\u001b[0m\u001b[0;34m:\u001b[0m\u001b[0;34m\u001b[0m\u001b[0;34m\u001b[0m\u001b[0m\n\u001b[0;32m---> 37\u001b[0;31m         \u001b[0;32mreturn\u001b[0m \u001b[0mviacep\u001b[0m\u001b[0;34m.\u001b[0m\u001b[0mfetch_address\u001b[0m\u001b[0;34m(\u001b[0m\u001b[0mcep\u001b[0m\u001b[0;34m)\u001b[0m\u001b[0;34m\u001b[0m\u001b[0;34m\u001b[0m\u001b[0m\n\u001b[0m\u001b[1;32m     38\u001b[0m \u001b[0;34m\u001b[0m\u001b[0m\n\u001b[1;32m     39\u001b[0m     \u001b[0;32mif\u001b[0m \u001b[0mwebservice\u001b[0m \u001b[0;34m==\u001b[0m \u001b[0mWebService\u001b[0m\u001b[0;34m.\u001b[0m\u001b[0mAPICEP\u001b[0m\u001b[0;34m:\u001b[0m\u001b[0;34m\u001b[0m\u001b[0;34m\u001b[0m\u001b[0m\n",
      "\u001b[0;32m/opt/anaconda3/lib/python3.6/site-packages/pycep_correios/viacep.py\u001b[0m in \u001b[0;36mfetch_address\u001b[0;34m(cep)\u001b[0m\n\u001b[1;32m     11\u001b[0m \u001b[0;34m\u001b[0m\u001b[0m\n\u001b[1;32m     12\u001b[0m     \u001b[0;32mtry\u001b[0m\u001b[0;34m:\u001b[0m\u001b[0;34m\u001b[0m\u001b[0;34m\u001b[0m\u001b[0m\n\u001b[0;32m---> 13\u001b[0;31m         \u001b[0mresponse\u001b[0m \u001b[0;34m=\u001b[0m \u001b[0mrequests\u001b[0m\u001b[0;34m.\u001b[0m\u001b[0mget\u001b[0m\u001b[0;34m(\u001b[0m\u001b[0mURL\u001b[0m\u001b[0;34m.\u001b[0m\u001b[0mformat\u001b[0m\u001b[0;34m(\u001b[0m\u001b[0mcep\u001b[0m\u001b[0;34m)\u001b[0m\u001b[0;34m)\u001b[0m\u001b[0;34m\u001b[0m\u001b[0;34m\u001b[0m\u001b[0m\n\u001b[0m\u001b[1;32m     14\u001b[0m \u001b[0;34m\u001b[0m\u001b[0m\n\u001b[1;32m     15\u001b[0m         \u001b[0;32mif\u001b[0m \u001b[0mresponse\u001b[0m\u001b[0;34m.\u001b[0m\u001b[0mstatus_code\u001b[0m \u001b[0;34m==\u001b[0m \u001b[0;36m200\u001b[0m\u001b[0;34m:\u001b[0m\u001b[0;34m\u001b[0m\u001b[0;34m\u001b[0m\u001b[0m\n",
      "\u001b[0;32m/opt/anaconda3/lib/python3.6/site-packages/requests/api.py\u001b[0m in \u001b[0;36mget\u001b[0;34m(url, params, **kwargs)\u001b[0m\n\u001b[1;32m     70\u001b[0m \u001b[0;34m\u001b[0m\u001b[0m\n\u001b[1;32m     71\u001b[0m     \u001b[0mkwargs\u001b[0m\u001b[0;34m.\u001b[0m\u001b[0msetdefault\u001b[0m\u001b[0;34m(\u001b[0m\u001b[0;34m'allow_redirects'\u001b[0m\u001b[0;34m,\u001b[0m \u001b[0;32mTrue\u001b[0m\u001b[0;34m)\u001b[0m\u001b[0;34m\u001b[0m\u001b[0;34m\u001b[0m\u001b[0m\n\u001b[0;32m---> 72\u001b[0;31m     \u001b[0;32mreturn\u001b[0m \u001b[0mrequest\u001b[0m\u001b[0;34m(\u001b[0m\u001b[0;34m'get'\u001b[0m\u001b[0;34m,\u001b[0m \u001b[0murl\u001b[0m\u001b[0;34m,\u001b[0m \u001b[0mparams\u001b[0m\u001b[0;34m=\u001b[0m\u001b[0mparams\u001b[0m\u001b[0;34m,\u001b[0m \u001b[0;34m**\u001b[0m\u001b[0mkwargs\u001b[0m\u001b[0;34m)\u001b[0m\u001b[0;34m\u001b[0m\u001b[0;34m\u001b[0m\u001b[0m\n\u001b[0m\u001b[1;32m     73\u001b[0m \u001b[0;34m\u001b[0m\u001b[0m\n\u001b[1;32m     74\u001b[0m \u001b[0;34m\u001b[0m\u001b[0m\n",
      "\u001b[0;32m/opt/anaconda3/lib/python3.6/site-packages/requests/api.py\u001b[0m in \u001b[0;36mrequest\u001b[0;34m(method, url, **kwargs)\u001b[0m\n\u001b[1;32m     56\u001b[0m     \u001b[0;31m# cases, and look like a memory leak in others.\u001b[0m\u001b[0;34m\u001b[0m\u001b[0;34m\u001b[0m\u001b[0;34m\u001b[0m\u001b[0m\n\u001b[1;32m     57\u001b[0m     \u001b[0;32mwith\u001b[0m \u001b[0msessions\u001b[0m\u001b[0;34m.\u001b[0m\u001b[0mSession\u001b[0m\u001b[0;34m(\u001b[0m\u001b[0;34m)\u001b[0m \u001b[0;32mas\u001b[0m \u001b[0msession\u001b[0m\u001b[0;34m:\u001b[0m\u001b[0;34m\u001b[0m\u001b[0;34m\u001b[0m\u001b[0m\n\u001b[0;32m---> 58\u001b[0;31m         \u001b[0;32mreturn\u001b[0m \u001b[0msession\u001b[0m\u001b[0;34m.\u001b[0m\u001b[0mrequest\u001b[0m\u001b[0;34m(\u001b[0m\u001b[0mmethod\u001b[0m\u001b[0;34m=\u001b[0m\u001b[0mmethod\u001b[0m\u001b[0;34m,\u001b[0m \u001b[0murl\u001b[0m\u001b[0;34m=\u001b[0m\u001b[0murl\u001b[0m\u001b[0;34m,\u001b[0m \u001b[0;34m**\u001b[0m\u001b[0mkwargs\u001b[0m\u001b[0;34m)\u001b[0m\u001b[0;34m\u001b[0m\u001b[0;34m\u001b[0m\u001b[0m\n\u001b[0m\u001b[1;32m     59\u001b[0m \u001b[0;34m\u001b[0m\u001b[0m\n\u001b[1;32m     60\u001b[0m \u001b[0;34m\u001b[0m\u001b[0m\n",
      "\u001b[0;32m/opt/anaconda3/lib/python3.6/site-packages/requests/sessions.py\u001b[0m in \u001b[0;36mrequest\u001b[0;34m(self, method, url, params, data, headers, cookies, files, auth, timeout, allow_redirects, proxies, hooks, stream, verify, cert, json)\u001b[0m\n\u001b[1;32m    497\u001b[0m \u001b[0;34m\u001b[0m\u001b[0m\n\u001b[1;32m    498\u001b[0m         settings = self.merge_environment_settings(\n\u001b[0;32m--> 499\u001b[0;31m             \u001b[0mprep\u001b[0m\u001b[0;34m.\u001b[0m\u001b[0murl\u001b[0m\u001b[0;34m,\u001b[0m \u001b[0mproxies\u001b[0m\u001b[0;34m,\u001b[0m \u001b[0mstream\u001b[0m\u001b[0;34m,\u001b[0m \u001b[0mverify\u001b[0m\u001b[0;34m,\u001b[0m \u001b[0mcert\u001b[0m\u001b[0;34m\u001b[0m\u001b[0;34m\u001b[0m\u001b[0m\n\u001b[0m\u001b[1;32m    500\u001b[0m         )\n\u001b[1;32m    501\u001b[0m \u001b[0;34m\u001b[0m\u001b[0m\n",
      "\u001b[0;32m/opt/anaconda3/lib/python3.6/site-packages/requests/sessions.py\u001b[0m in \u001b[0;36mmerge_environment_settings\u001b[0;34m(self, url, proxies, stream, verify, cert)\u001b[0m\n\u001b[1;32m    681\u001b[0m \u001b[0;34m\u001b[0m\u001b[0m\n\u001b[1;32m    682\u001b[0m         \u001b[0;31m# Merge all the kwargs.\u001b[0m\u001b[0;34m\u001b[0m\u001b[0;34m\u001b[0m\u001b[0;34m\u001b[0m\u001b[0m\n\u001b[0;32m--> 683\u001b[0;31m         \u001b[0mproxies\u001b[0m \u001b[0;34m=\u001b[0m \u001b[0mmerge_setting\u001b[0m\u001b[0;34m(\u001b[0m\u001b[0mproxies\u001b[0m\u001b[0;34m,\u001b[0m \u001b[0mself\u001b[0m\u001b[0;34m.\u001b[0m\u001b[0mproxies\u001b[0m\u001b[0;34m)\u001b[0m\u001b[0;34m\u001b[0m\u001b[0;34m\u001b[0m\u001b[0m\n\u001b[0m\u001b[1;32m    684\u001b[0m         \u001b[0mstream\u001b[0m \u001b[0;34m=\u001b[0m \u001b[0mmerge_setting\u001b[0m\u001b[0;34m(\u001b[0m\u001b[0mstream\u001b[0m\u001b[0;34m,\u001b[0m \u001b[0mself\u001b[0m\u001b[0;34m.\u001b[0m\u001b[0mstream\u001b[0m\u001b[0;34m)\u001b[0m\u001b[0;34m\u001b[0m\u001b[0;34m\u001b[0m\u001b[0m\n\u001b[1;32m    685\u001b[0m         \u001b[0mverify\u001b[0m \u001b[0;34m=\u001b[0m \u001b[0mmerge_setting\u001b[0m\u001b[0;34m(\u001b[0m\u001b[0mverify\u001b[0m\u001b[0;34m,\u001b[0m \u001b[0mself\u001b[0m\u001b[0;34m.\u001b[0m\u001b[0mverify\u001b[0m\u001b[0;34m)\u001b[0m\u001b[0;34m\u001b[0m\u001b[0;34m\u001b[0m\u001b[0m\n",
      "\u001b[0;32m/opt/anaconda3/lib/python3.6/site-packages/requests/sessions.py\u001b[0m in \u001b[0;36mmerge_setting\u001b[0;34m(request_setting, session_setting, dict_class)\u001b[0m\n\u001b[1;32m     68\u001b[0m \u001b[0;34m\u001b[0m\u001b[0m\n\u001b[1;32m     69\u001b[0m     \u001b[0mmerged_setting\u001b[0m \u001b[0;34m=\u001b[0m \u001b[0mdict_class\u001b[0m\u001b[0;34m(\u001b[0m\u001b[0mto_key_val_list\u001b[0m\u001b[0;34m(\u001b[0m\u001b[0msession_setting\u001b[0m\u001b[0;34m)\u001b[0m\u001b[0;34m)\u001b[0m\u001b[0;34m\u001b[0m\u001b[0;34m\u001b[0m\u001b[0m\n\u001b[0;32m---> 70\u001b[0;31m     \u001b[0mmerged_setting\u001b[0m\u001b[0;34m.\u001b[0m\u001b[0mupdate\u001b[0m\u001b[0;34m(\u001b[0m\u001b[0mto_key_val_list\u001b[0m\u001b[0;34m(\u001b[0m\u001b[0mrequest_setting\u001b[0m\u001b[0;34m)\u001b[0m\u001b[0;34m)\u001b[0m\u001b[0;34m\u001b[0m\u001b[0;34m\u001b[0m\u001b[0m\n\u001b[0m\u001b[1;32m     71\u001b[0m \u001b[0;34m\u001b[0m\u001b[0m\n\u001b[1;32m     72\u001b[0m     \u001b[0;31m# Remove keys that are set to None. Extract keys first to avoid altering\u001b[0m\u001b[0;34m\u001b[0m\u001b[0;34m\u001b[0m\u001b[0;34m\u001b[0m\u001b[0m\n",
      "\u001b[0;32m/opt/anaconda3/lib/python3.6/site-packages/requests/utils.py\u001b[0m in \u001b[0;36mto_key_val_list\u001b[0;34m(value)\u001b[0m\n\u001b[1;32m    263\u001b[0m         \u001b[0;32mraise\u001b[0m \u001b[0mValueError\u001b[0m\u001b[0;34m(\u001b[0m\u001b[0;34m'cannot encode objects that are not 2-tuples'\u001b[0m\u001b[0;34m)\u001b[0m\u001b[0;34m\u001b[0m\u001b[0;34m\u001b[0m\u001b[0m\n\u001b[1;32m    264\u001b[0m \u001b[0;34m\u001b[0m\u001b[0m\n\u001b[0;32m--> 265\u001b[0;31m     \u001b[0;32mif\u001b[0m \u001b[0misinstance\u001b[0m\u001b[0;34m(\u001b[0m\u001b[0mvalue\u001b[0m\u001b[0;34m,\u001b[0m \u001b[0mcollections\u001b[0m\u001b[0;34m.\u001b[0m\u001b[0mMapping\u001b[0m\u001b[0;34m)\u001b[0m\u001b[0;34m:\u001b[0m\u001b[0;34m\u001b[0m\u001b[0;34m\u001b[0m\u001b[0m\n\u001b[0m\u001b[1;32m    266\u001b[0m         \u001b[0mvalue\u001b[0m \u001b[0;34m=\u001b[0m \u001b[0mvalue\u001b[0m\u001b[0;34m.\u001b[0m\u001b[0mitems\u001b[0m\u001b[0;34m(\u001b[0m\u001b[0;34m)\u001b[0m\u001b[0;34m\u001b[0m\u001b[0;34m\u001b[0m\u001b[0m\n\u001b[1;32m    267\u001b[0m \u001b[0;34m\u001b[0m\u001b[0m\n",
      "\u001b[0;32m/opt/anaconda3/lib/python3.6/abc.py\u001b[0m in \u001b[0;36m__instancecheck__\u001b[0;34m(cls, instance)\u001b[0m\n\u001b[1;32m    182\u001b[0m         \u001b[0;31m# Inline the cache checking\u001b[0m\u001b[0;34m\u001b[0m\u001b[0;34m\u001b[0m\u001b[0;34m\u001b[0m\u001b[0m\n\u001b[1;32m    183\u001b[0m         \u001b[0msubclass\u001b[0m \u001b[0;34m=\u001b[0m \u001b[0minstance\u001b[0m\u001b[0;34m.\u001b[0m\u001b[0m__class__\u001b[0m\u001b[0;34m\u001b[0m\u001b[0;34m\u001b[0m\u001b[0m\n\u001b[0;32m--> 184\u001b[0;31m         \u001b[0;32mif\u001b[0m \u001b[0msubclass\u001b[0m \u001b[0;32min\u001b[0m \u001b[0mcls\u001b[0m\u001b[0;34m.\u001b[0m\u001b[0m_abc_cache\u001b[0m\u001b[0;34m:\u001b[0m\u001b[0;34m\u001b[0m\u001b[0;34m\u001b[0m\u001b[0m\n\u001b[0m\u001b[1;32m    185\u001b[0m             \u001b[0;32mreturn\u001b[0m \u001b[0;32mTrue\u001b[0m\u001b[0;34m\u001b[0m\u001b[0;34m\u001b[0m\u001b[0m\n\u001b[1;32m    186\u001b[0m         \u001b[0msubtype\u001b[0m \u001b[0;34m=\u001b[0m \u001b[0mtype\u001b[0m\u001b[0;34m(\u001b[0m\u001b[0minstance\u001b[0m\u001b[0;34m)\u001b[0m\u001b[0;34m\u001b[0m\u001b[0;34m\u001b[0m\u001b[0m\n",
      "\u001b[0;32m/opt/anaconda3/lib/python3.6/_weakrefset.py\u001b[0m in \u001b[0;36m__contains__\u001b[0;34m(self, item)\u001b[0m\n\u001b[1;32m     73\u001b[0m         \u001b[0;32mexcept\u001b[0m \u001b[0mTypeError\u001b[0m\u001b[0;34m:\u001b[0m\u001b[0;34m\u001b[0m\u001b[0;34m\u001b[0m\u001b[0m\n\u001b[1;32m     74\u001b[0m             \u001b[0;32mreturn\u001b[0m \u001b[0;32mFalse\u001b[0m\u001b[0;34m\u001b[0m\u001b[0;34m\u001b[0m\u001b[0m\n\u001b[0;32m---> 75\u001b[0;31m         \u001b[0;32mreturn\u001b[0m \u001b[0mwr\u001b[0m \u001b[0;32min\u001b[0m \u001b[0mself\u001b[0m\u001b[0;34m.\u001b[0m\u001b[0mdata\u001b[0m\u001b[0;34m\u001b[0m\u001b[0;34m\u001b[0m\u001b[0m\n\u001b[0m\u001b[1;32m     76\u001b[0m \u001b[0;34m\u001b[0m\u001b[0m\n\u001b[1;32m     77\u001b[0m     \u001b[0;32mdef\u001b[0m \u001b[0m__reduce__\u001b[0m\u001b[0;34m(\u001b[0m\u001b[0mself\u001b[0m\u001b[0;34m)\u001b[0m\u001b[0;34m:\u001b[0m\u001b[0;34m\u001b[0m\u001b[0;34m\u001b[0m\u001b[0m\n",
      "\u001b[0;31mKeyboardInterrupt\u001b[0m: "
     ]
    }
   ],
   "source": [
    "geolocation_formattedCep_address = [\n",
    "    addAddressByCorreios(row) for row in geolocation_formattedCep_rows]\n"
   ]
  },
  {
   "cell_type": "markdown",
   "metadata": {},
   "source": [
    "##### ATENÇÃO!!! \n",
    "\n",
    "o codigo comentado acima funciona mas não foi executado até o final aqui devido ao tempo de processamento, pois não foi feita a implementação em bloco.\n",
    "\n",
    "Como alternativa, a execução foi feita por outro colega e o resultado foi importado para a tabela no hive **olist_cleansed_db.geolocation_tb**\n",
    "\n",
    "Entretanto, segue uma descrição sobre o objetivo da implementação acima:\n",
    "\n",
    "Percebeu-se que alguns CEPS são invalidos, mesmo na base dos Correios. Esses casos foram mapeados pela exception InvalidCEP e marcamos para tratados posteriormente através da api geopy. A partir das coordenadas geográficas associadas no dataset geolocation, iriamos pegar o cep correto. \n",
    "\n",
    "Percebeu-se também que alguns CEPs não eram encontrados na pycep_correios via APICEP, mas era encontrado via VIACEP, por exemplo. Para esses casos, fizemos uma marcação para que fosse executado novamente apenas os casos que não foram encontrados para testar todas as opções do pycep. Caso nenhuma opção funcionasse para encontrar o CEP, a gente iria fazer o mesmo tratamento descrito anteriormente: usar a api geopy para pegar o cep correto. \n",
    "\n",
    "Fizemos um outro tratamento de exceção tb para os casos de problema de conexão. Marcamos os ceps com problema para que  pudessemos rodar novamente o pycep_correios apenas para os casos com problema. \n"
   ]
  },
  {
   "cell_type": "code",
   "execution_count": 7,
   "metadata": {},
   "outputs": [
    {
     "name": "stdout",
     "output_type": "stream",
     "text": [
      "put: `/datalake/olist/raw/csv/geolocation_cep_correios.csv': File exists\r\n"
     ]
    }
   ],
   "source": [
    "#CSV com o resultado do codigo acima\n",
    "\n",
    "os.chdir(r'/mnt/notebooks/grupof/olist')\n",
    "\n",
    "! hadoop fs -put geolocation_cep_correios.csv /datalake/olist/raw/csv\n"
   ]
  },
  {
   "cell_type": "code",
   "execution_count": 64,
   "metadata": {},
   "outputs": [],
   "source": [
    "schema = StructType() \\\n",
    "      .add(\"geo_zip_code_prefix\",StringType(),True) \\\n",
    "      .add(\"geolocation_city\",StringType(),True) \\\n",
    "      .add(\"geolocation_street\",StringType(),True) \\\n",
    "      .add(\"geolocation_state\",StringType(),True) \n",
    "\n",
    "\n",
    "geolocation_correios_df = spark.read.option(\"header\",True) \\\n",
    "                       .option(\"delimiter\",\",\") \\\n",
    "                       .schema(schema) \\\n",
    "                       .csv(\"hdfs://namenode:8020/datalake/olist/raw/csv/geolocation_cep_correios.csv\")"
   ]
  },
  {
   "cell_type": "code",
   "execution_count": 14,
   "metadata": {},
   "outputs": [
    {
     "name": "stdout",
     "output_type": "stream",
     "text": [
      "+---------------------------+--------------------+-----------------+--------------------+\n",
      "|geolocation_zip_code_prefix|    geolocation_city|geolocation_state|  geolocation_street|\n",
      "+---------------------------+--------------------+-----------------+--------------------+\n",
      "|       geolocation_zip_c...|    geolocation_city|geolocation_state|  geolocation_street|\n",
      "|                 02147-000 |São Paulo        ...|            SP   |Alameda Segundo-S...|\n",
      "|                 02248-000 |São Paulo        ...|            SP   |Rua Cruz de Malta...|\n",
      "|                 02240-000 |São Paulo        ...|            SP   |Avenida Doutor An...|\n",
      "|                 02422-000 |São Paulo        ...|            SP   |Praça Doutor Poli...|\n",
      "|                 02406-000 |São Paulo        ...|            SP   |Rua Dona Luiza To...|\n",
      "|                 02407-000 |São Paulo        ...|            SP   |Rua Jerônima Dias...|\n",
      "|                 02854-000 |São Paulo        ...|            SP   |Rua Rodolfo Perei...|\n",
      "|                 03279-000 |São Paulo        ...|            SP   |Rua Herwis       ...|\n",
      "|                 03820-000 |São Paulo        ...|            SP   |Rua Olho D'Água d...|\n",
      "|                 03840-000 |                 ...|                 |                 ...|\n",
      "|                 04044-000 |São Paulo        ...|            SP   |Rua Machado Biten...|\n",
      "|                 04115-000 |São Paulo        ...|            SP   |Rua Pedro Pompona...|\n",
      "|                 05060-000 |São Paulo        ...|            SP   |Rua Pio XI       ...|\n",
      "|                 05437-000 |São Paulo        ...|            SP   |Rua Heitor Pentea...|\n",
      "|                 07807-000 |Franco da Rocha  ...|            SP   |Rua Taubaté      ...|\n",
      "|                 07920-000 |Francisco Morato ...|            SP   |Rua Cícera Alves ...|\n",
      "|                 08615-000 |Suzano           ...|            SP   |Rua Biotônico    ...|\n",
      "|                 09860-000 |                 ...|                 |                 ...|\n",
      "|                 09930-000 |                 ...|                 |                 ...|\n",
      "+---------------------------+--------------------+-----------------+--------------------+\n",
      "only showing top 20 rows\n",
      "\n"
     ]
    }
   ],
   "source": [
    "#Exibição do conteudo que foi importado pelo Hive emm notebook anterior\n",
    "\n",
    "from pyspark.sql import HiveContext\n",
    "\n",
    "hive_context = HiveContext(spark)\n",
    "geolocation_tb = hive_context.table(\"olist_cleansed_db.geolocation_tb\")\n",
    "geolocation_tb.show()\n"
   ]
  },
  {
   "cell_type": "code",
   "execution_count": 23,
   "metadata": {},
   "outputs": [
    {
     "name": "stdout",
     "output_type": "stream",
     "text": [
      "+--------------------+\n",
      "|        databaseName|\n",
      "+--------------------+\n",
      "|             default|\n",
      "|   olist_cleansed_db|\n",
      "|olist_consumption_db|\n",
      "|   olist_enriched_db|\n",
      "|    olist_trusted_db|\n",
      "+--------------------+\n",
      "\n"
     ]
    }
   ],
   "source": [
    "df=spark.sql(\"show databases\")\n",
    "df.show()"
   ]
  },
  {
   "cell_type": "code",
   "execution_count": 63,
   "metadata": {},
   "outputs": [
    {
     "name": "stdout",
     "output_type": "stream",
     "text": [
      "+---------------------------+--------------------+-----------------+--------------------+\n",
      "|geolocation_zip_code_prefix|    geolocation_city|geolocation_state|  geolocation_street|\n",
      "+---------------------------+--------------------+-----------------+--------------------+\n",
      "|       geolocation_zip_c...|    geolocation_city|geolocation_state|  geolocation_street|\n",
      "|                 02147-000 |São Paulo        ...|            SP   |Alameda Segundo-S...|\n",
      "|                 02248-000 |São Paulo        ...|            SP   |Rua Cruz de Malta...|\n",
      "|                 02240-000 |São Paulo        ...|            SP   |Avenida Doutor An...|\n",
      "|                 02422-000 |São Paulo        ...|            SP   |Praça Doutor Poli...|\n",
      "|                 02406-000 |São Paulo        ...|            SP   |Rua Dona Luiza To...|\n",
      "|                 02407-000 |São Paulo        ...|            SP   |Rua Jerônima Dias...|\n",
      "|                 02854-000 |São Paulo        ...|            SP   |Rua Rodolfo Perei...|\n",
      "|                 03279-000 |São Paulo        ...|            SP   |Rua Herwis       ...|\n",
      "|                 03820-000 |São Paulo        ...|            SP   |Rua Olho D'Água d...|\n",
      "|                 03840-000 |                 ...|                 |                 ...|\n",
      "|                 04044-000 |São Paulo        ...|            SP   |Rua Machado Biten...|\n",
      "|                 04115-000 |São Paulo        ...|            SP   |Rua Pedro Pompona...|\n",
      "|                 05060-000 |São Paulo        ...|            SP   |Rua Pio XI       ...|\n",
      "|                 05437-000 |São Paulo        ...|            SP   |Rua Heitor Pentea...|\n",
      "|                 07807-000 |Franco da Rocha  ...|            SP   |Rua Taubaté      ...|\n",
      "|                 07920-000 |Francisco Morato ...|            SP   |Rua Cícera Alves ...|\n",
      "|                 08615-000 |Suzano           ...|            SP   |Rua Biotônico    ...|\n",
      "|                 09860-000 |                 ...|                 |                 ...|\n",
      "|                 09930-000 |                 ...|                 |                 ...|\n",
      "+---------------------------+--------------------+-----------------+--------------------+\n",
      "only showing top 20 rows\n",
      "\n"
     ]
    }
   ],
   "source": [
    "df1=spark.sql(\"select * from olist_cleansed_db.geolocation_tb\")\n",
    "df1.show()"
   ]
  },
  {
   "cell_type": "code",
   "execution_count": 50,
   "metadata": {},
   "outputs": [
    {
     "data": {
      "text/plain": [
       "1000163"
      ]
     },
     "execution_count": 50,
     "metadata": {},
     "output_type": "execute_result"
    }
   ],
   "source": [
    "geoclocation_cep_distinct_df.join(geolocation_df,geolocation_df.geolocation_zip_code_prefix == geoclocation_cep_distinct_df.geolocation_zip_code_prefix, \"inner\")\\\n",
    ".drop(geoclocation_cep_distinct_df[\"geolocation_zip_code_prefix\"])\\\n",
    ".count()\n"
   ]
  },
  {
   "cell_type": "code",
   "execution_count": 51,
   "metadata": {},
   "outputs": [
    {
     "data": {
      "text/plain": [
       "19015"
      ]
     },
     "execution_count": 51,
     "metadata": {},
     "output_type": "execute_result"
    }
   ],
   "source": [
    "geoclocation_cep_distinct_df.count()"
   ]
  },
  {
   "cell_type": "code",
   "execution_count": 53,
   "metadata": {},
   "outputs": [
    {
     "name": "stdout",
     "output_type": "stream",
     "text": [
      "Collecting geopy\n",
      "  Downloading geopy-2.2.0-py3-none-any.whl (118 kB)\n",
      "\u001b[K     |████████████████████████████████| 118 kB 5.4 MB/s eta 0:00:01\n",
      "\u001b[?25hCollecting geographiclib<2,>=1.49\n",
      "  Downloading geographiclib-1.52-py3-none-any.whl (38 kB)\n",
      "Installing collected packages: geographiclib, geopy\n",
      "Successfully installed geographiclib-1.52 geopy-2.2.0\n"
     ]
    }
   ],
   "source": [
    "! pip install geopy"
   ]
  },
  {
   "cell_type": "code",
   "execution_count": 94,
   "metadata": {},
   "outputs": [],
   "source": [
    "from geopy.geocoders import Nominatim\n",
    "\n",
    "#adding new row with address provided by geopy\n",
    "def getCepByLatLon(row):    \n",
    "    rowDict = row.asDict()\n",
    "    \n",
    "    \n",
    "    city = rowDict.get(\"geolocation_city\")\n",
    "    street = rowDict.get(\"geolocation_state\")\n",
    "    print(city)\n",
    "    print(street)\n",
    "    \n",
    "    if(street!= \"\" and street!=\"-1\" and street!=\"-2\"):\n",
    "        address = \"{street} {city}\"\n",
    "        geolocator = Nominatim(user_agent=\"update_geolocation\")\n",
    "        location = geolocator.geocode(address.format(street=street,city=city))\n",
    "        print(location.latitude)\n",
    "        rowDict[\"geolocation_lat\"] = str(location.latitude)\n",
    "        rowDict[\"geolocation_lon\"] = str(location.longitude)\n",
    "\n",
    "    return rowDict"
   ]
  },
  {
   "cell_type": "code",
   "execution_count": 95,
   "metadata": {},
   "outputs": [],
   "source": [
    "geolocation_valid_df = geolocation_correios_df.select(\"*\").where(col(\"geo_zip_code_prefix\")!=\"geolocation_zip_code_prefix\")"
   ]
  },
  {
   "cell_type": "code",
   "execution_count": 96,
   "metadata": {},
   "outputs": [
    {
     "data": {
      "text/plain": [
       "DataFrame[geo_zip_code_prefix: string, geolocation_city: string, geolocation_street: string, geolocation_state: string]"
      ]
     },
     "execution_count": 96,
     "metadata": {},
     "output_type": "execute_result"
    }
   ],
   "source": [
    "geolocation_valid_df.cache()\n"
   ]
  },
  {
   "cell_type": "code",
   "execution_count": 97,
   "metadata": {},
   "outputs": [
    {
     "name": "stdout",
     "output_type": "stream",
     "text": [
      "+-------------------+--------------------+------------------+--------------------+\n",
      "|geo_zip_code_prefix|    geolocation_city|geolocation_street|   geolocation_state|\n",
      "+-------------------+--------------------+------------------+--------------------+\n",
      "|         02147-000 |São Paulo        ...|             SP   |Alameda Segundo-S...|\n",
      "|         02248-000 |São Paulo        ...|             SP   |Rua Cruz de Malta...|\n",
      "|         02240-000 |São Paulo        ...|             SP   |Avenida Doutor An...|\n",
      "|         02422-000 |São Paulo        ...|             SP   |Praça Doutor Poli...|\n",
      "|         02406-000 |São Paulo        ...|             SP   |Rua Dona Luiza To...|\n",
      "|         02407-000 |São Paulo        ...|             SP   |Rua Jerônima Dias...|\n",
      "|         02854-000 |São Paulo        ...|             SP   |Rua Rodolfo Perei...|\n",
      "|         03279-000 |São Paulo        ...|             SP   |Rua Herwis       ...|\n",
      "|         03820-000 |São Paulo        ...|             SP   |Rua Olho D'Água d...|\n",
      "|         03840-000 |                 ...|                  |                 ...|\n",
      "|         04044-000 |São Paulo        ...|             SP   |Rua Machado Biten...|\n",
      "|         04115-000 |São Paulo        ...|             SP   |Rua Pedro Pompona...|\n",
      "|         05060-000 |São Paulo        ...|             SP   |Rua Pio XI       ...|\n",
      "|         05437-000 |São Paulo        ...|             SP   |Rua Heitor Pentea...|\n",
      "|         07807-000 |Franco da Rocha  ...|             SP   |Rua Taubaté      ...|\n",
      "|         07920-000 |Francisco Morato ...|             SP   |Rua Cícera Alves ...|\n",
      "|         08615-000 |Suzano           ...|             SP   |Rua Biotônico    ...|\n",
      "|         09860-000 |                 ...|                  |                 ...|\n",
      "|         09930-000 |                 ...|                  |                 ...|\n",
      "|         11461-000 |Guarujá          ...|             SP   |Avenida Guarujá  ...|\n",
      "+-------------------+--------------------+------------------+--------------------+\n",
      "only showing top 20 rows\n",
      "\n"
     ]
    }
   ],
   "source": [
    "geolocation_valid_df = geolocation_valid_df.select(\"*\").where(col(\"geolocation_street\").isNotNull())\n",
    "\n",
    "geolocation_valid_df.show()\n",
    "\n"
   ]
  },
  {
   "cell_type": "code",
   "execution_count": 98,
   "metadata": {},
   "outputs": [],
   "source": [
    "geolocation_valid_rows = geolocation_valid_df.collect()"
   ]
  },
  {
   "cell_type": "code",
   "execution_count": 99,
   "metadata": {},
   "outputs": [
    {
     "name": "stdout",
     "output_type": "stream",
     "text": [
      "São Paulo                                                                                           \n",
      "Alameda Segundo-Sargento Rubens Leite                                                                                                                                                                                                                     \n",
      "-23.4988758\n",
      "São Paulo                                                                                           \n",
      "Rua Cruz de Malta                                                                                                                                                                                                                                         \n",
      "-23.703249\n",
      "São Paulo                                                                                           \n",
      "Avenida Doutor Antônio Maria Laet                                                                                                                                                                                                                         \n",
      "-23.4810088\n",
      "São Paulo                                                                                           \n",
      "Praça Doutor Policarpo de Magalhães Viotti                                                                                                                                                                                                                \n",
      "-23.47159235\n",
      "São Paulo                                                                                           \n",
      "Rua Dona Luiza Tolle                                                                                                                                                                                                                                      \n",
      "-23.4885888\n",
      "São Paulo                                                                                           \n",
      "Rua Jerônima Dias                                                                                                                                                                                                                                         \n",
      "-23.4871115\n",
      "São Paulo                                                                                           \n",
      "Rua Rodolfo Pereira Lima                                                                                                                                                                                                                                  \n",
      "-23.4584953\n",
      "São Paulo                                                                                           \n",
      "Rua Herwis                                                                                                                                                                                                                                                \n",
      "-23.5799276\n",
      "São Paulo                                                                                           \n",
      "Rua Olho D'Água do Borges                                                                                                                                                                                                                                 \n",
      "-23.498675\n",
      "                                                                                                    \n",
      "                                                                                                                                                                                                                                                          \n"
     ]
    },
    {
     "ename": "AttributeError",
     "evalue": "'NoneType' object has no attribute 'latitude'",
     "output_type": "error",
     "traceback": [
      "\u001b[0;31m---------------------------------------------------------------------------\u001b[0m",
      "\u001b[0;31mAttributeError\u001b[0m                            Traceback (most recent call last)",
      "\u001b[0;32m<ipython-input-99-c16ed7602edd>\u001b[0m in \u001b[0;36m<module>\u001b[0;34m()\u001b[0m\n\u001b[1;32m      1\u001b[0m geolocation_latlon_address = [\n\u001b[1;32m      2\u001b[0m         \u001b[0mgetCepByLatLon\u001b[0m\u001b[0;34m(\u001b[0m\u001b[0mrow\u001b[0m\u001b[0;34m)\u001b[0m\u001b[0;34m\u001b[0m\u001b[0;34m\u001b[0m\u001b[0m\n\u001b[0;32m----> 3\u001b[0;31m         \u001b[0;32mfor\u001b[0m \u001b[0mrow\u001b[0m \u001b[0;32min\u001b[0m \u001b[0mgeolocation_valid_rows\u001b[0m\u001b[0;34m\u001b[0m\u001b[0;34m\u001b[0m\u001b[0m\n\u001b[0m\u001b[1;32m      4\u001b[0m      ]\n\u001b[1;32m      5\u001b[0m \u001b[0mgeolocation_latlon_address_df\u001b[0m \u001b[0;34m=\u001b[0m \u001b[0mspark\u001b[0m\u001b[0;34m.\u001b[0m\u001b[0mcreateDataFrame\u001b[0m\u001b[0;34m(\u001b[0m\u001b[0mgeolocation_latlon_address\u001b[0m\u001b[0;34m)\u001b[0m\u001b[0;34m\u001b[0m\u001b[0;34m\u001b[0m\u001b[0m\n",
      "\u001b[0;32m<ipython-input-99-c16ed7602edd>\u001b[0m in \u001b[0;36m<listcomp>\u001b[0;34m(.0)\u001b[0m\n\u001b[1;32m      1\u001b[0m geolocation_latlon_address = [\n\u001b[1;32m      2\u001b[0m         \u001b[0mgetCepByLatLon\u001b[0m\u001b[0;34m(\u001b[0m\u001b[0mrow\u001b[0m\u001b[0;34m)\u001b[0m\u001b[0;34m\u001b[0m\u001b[0;34m\u001b[0m\u001b[0m\n\u001b[0;32m----> 3\u001b[0;31m         \u001b[0;32mfor\u001b[0m \u001b[0mrow\u001b[0m \u001b[0;32min\u001b[0m \u001b[0mgeolocation_valid_rows\u001b[0m\u001b[0;34m\u001b[0m\u001b[0;34m\u001b[0m\u001b[0m\n\u001b[0m\u001b[1;32m      4\u001b[0m      ]\n\u001b[1;32m      5\u001b[0m \u001b[0mgeolocation_latlon_address_df\u001b[0m \u001b[0;34m=\u001b[0m \u001b[0mspark\u001b[0m\u001b[0;34m.\u001b[0m\u001b[0mcreateDataFrame\u001b[0m\u001b[0;34m(\u001b[0m\u001b[0mgeolocation_latlon_address\u001b[0m\u001b[0;34m)\u001b[0m\u001b[0;34m\u001b[0m\u001b[0;34m\u001b[0m\u001b[0m\n",
      "\u001b[0;32m<ipython-input-94-da17a1701d57>\u001b[0m in \u001b[0;36mgetCepByLatLon\u001b[0;34m(row)\u001b[0m\n\u001b[1;32m     15\u001b[0m         \u001b[0mgeolocator\u001b[0m \u001b[0;34m=\u001b[0m \u001b[0mNominatim\u001b[0m\u001b[0;34m(\u001b[0m\u001b[0muser_agent\u001b[0m\u001b[0;34m=\u001b[0m\u001b[0;34m\"update_geolocation\"\u001b[0m\u001b[0;34m)\u001b[0m\u001b[0;34m\u001b[0m\u001b[0;34m\u001b[0m\u001b[0m\n\u001b[1;32m     16\u001b[0m         \u001b[0mlocation\u001b[0m \u001b[0;34m=\u001b[0m \u001b[0mgeolocator\u001b[0m\u001b[0;34m.\u001b[0m\u001b[0mgeocode\u001b[0m\u001b[0;34m(\u001b[0m\u001b[0maddress\u001b[0m\u001b[0;34m.\u001b[0m\u001b[0mformat\u001b[0m\u001b[0;34m(\u001b[0m\u001b[0mstreet\u001b[0m\u001b[0;34m=\u001b[0m\u001b[0mstreet\u001b[0m\u001b[0;34m,\u001b[0m\u001b[0mcity\u001b[0m\u001b[0;34m=\u001b[0m\u001b[0mcity\u001b[0m\u001b[0;34m)\u001b[0m\u001b[0;34m)\u001b[0m\u001b[0;34m\u001b[0m\u001b[0;34m\u001b[0m\u001b[0m\n\u001b[0;32m---> 17\u001b[0;31m         \u001b[0mprint\u001b[0m\u001b[0;34m(\u001b[0m\u001b[0mlocation\u001b[0m\u001b[0;34m.\u001b[0m\u001b[0mlatitude\u001b[0m\u001b[0;34m)\u001b[0m\u001b[0;34m\u001b[0m\u001b[0;34m\u001b[0m\u001b[0m\n\u001b[0m\u001b[1;32m     18\u001b[0m         \u001b[0mrowDict\u001b[0m\u001b[0;34m[\u001b[0m\u001b[0;34m\"geolocation_lat\"\u001b[0m\u001b[0;34m]\u001b[0m \u001b[0;34m=\u001b[0m \u001b[0mstr\u001b[0m\u001b[0;34m(\u001b[0m\u001b[0mlocation\u001b[0m\u001b[0;34m.\u001b[0m\u001b[0mlatitude\u001b[0m\u001b[0;34m)\u001b[0m\u001b[0;34m\u001b[0m\u001b[0;34m\u001b[0m\u001b[0m\n\u001b[1;32m     19\u001b[0m         \u001b[0mrowDict\u001b[0m\u001b[0;34m[\u001b[0m\u001b[0;34m\"geolocation_lon\"\u001b[0m\u001b[0;34m]\u001b[0m \u001b[0;34m=\u001b[0m \u001b[0mstr\u001b[0m\u001b[0;34m(\u001b[0m\u001b[0mlocation\u001b[0m\u001b[0;34m.\u001b[0m\u001b[0mlongitude\u001b[0m\u001b[0;34m)\u001b[0m\u001b[0;34m\u001b[0m\u001b[0;34m\u001b[0m\u001b[0m\n",
      "\u001b[0;31mAttributeError\u001b[0m: 'NoneType' object has no attribute 'latitude'"
     ]
    }
   ],
   "source": [
    "geolocation_latlon_address = [\n",
    "        getCepByLatLon(row)\n",
    "        for row in geolocation_valid_rows\n",
    "     ]\n",
    "geolocation_latlon_address_df = spark.createDataFrame(geolocation_latlon_address)\n",
    "geolocation_latlon_address_df.show()"
   ]
  },
  {
   "cell_type": "markdown",
   "metadata": {},
   "source": [
    "#### ATENÇÃO:\n",
    "\n",
    "O código acima tem como objetivo trazer as coordenadas geograficas atualizadas a partir das informações validas dos correios. \n",
    "\n",
    "Ocorreu algum erro que não deu tempo de ser tratado. \n",
    "\n",
    "Após essa atualização, a intenção era armazenar uma nova tabela de geolocation no Hive, atualizada, com as colunas: CEP, Latitude, Longitude, Cidade, Estado. Na base de dados CLEANSED."
   ]
  }
 ],
 "metadata": {
  "kernelspec": {
   "display_name": "PySpark",
   "language": "python",
   "name": "pyspark"
  },
  "language_info": {
   "codemirror_mode": {
    "name": "ipython",
    "version": 3
   },
   "file_extension": ".py",
   "mimetype": "text/x-python",
   "name": "python",
   "nbconvert_exporter": "python",
   "pygments_lexer": "ipython3",
   "version": "3.6.10"
  }
 },
 "nbformat": 4,
 "nbformat_minor": 2
}
