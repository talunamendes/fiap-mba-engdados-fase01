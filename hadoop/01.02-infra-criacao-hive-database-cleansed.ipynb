{
 "cells": [
  {
   "cell_type": "markdown",
   "metadata": {},
   "source": [
    "### CLEANSED - Criação da estrutura de banco de dados e tabelas no Hive\n",
    "\n",
    "\n",
    "- Uma database deve ser criada para cada camada do datalake, com exceção da **raw**. Nessa camada ficarão os arquivos originais.\n",
    "    - para se trabalhar com Raw data, deverá ser utilizada a camada **cleansed**\n",
    "    - para o trabalho, não criaremos database para as camadas **sandbox** e **experiment**"
   ]
  },
  {
   "cell_type": "markdown",
   "metadata": {},
   "source": [
    "#### 1) Acessando o bash do container hive-server\n",
    "\n",
    "<img src=\"files/docker_hive-server.png\" width=\"1000\" height=\"500\" align=\"left\">\n"
   ]
  },
  {
   "cell_type": "markdown",
   "metadata": {},
   "source": [
    "#### 2) Acessando o console beeline do hive\n",
    "\n",
    "<img src=\"files/hive_beeline.png\" width=\"600\" height=\"300\" align=\"left\">\n"
   ]
  },
  {
   "cell_type": "markdown",
   "metadata": {},
   "source": [
    "#### 3) Criando as bases de dados \n",
    "\n",
    "- criada uma base de dados para cada camada do datalake\n",
    "\n",
    "````sql\n",
    "CREATE DATABASE IF NOT EXISTS olist_cleansed_db WITH DBPROPERTIES('LOCATION'='/datalake/olist/cleansed');\n",
    "CREATE DATABASE IF NOT EXISTS olist_enriched_db WITH DBPROPERTIES('LOCATION'='/datalake/olist/enriched');\n",
    "CREATE DATABASE IF NOT EXISTS olist_consumption_db WITH DBPROPERTIES('LOCATION'='/datalake/olist/consumption');\n",
    "CREATE DATABASE IF NOT EXISTS olist_trusted_db WITH DBPROPERTIES('LOCATION'='/datalake/olist/trusted');\n",
    "````\n",
    "\n",
    "<img src=\"files/hive_databases.png\" width=\"1000\" height=\"500\" align=\"left\">\n"
   ]
  },
  {
   "cell_type": "markdown",
   "metadata": {},
   "source": [
    "#### 4) Criando tabela(s) \n",
    "\n",
    "##### 4.1) criação da tabela temporaria (sem partiçao) **geolocation_tb** para armazenar os dados dos correios extraidos a partir do CEP do dataset geolocation. \n",
    "\n",
    "````sql\n",
    "USE olist_cleansed_db;\n",
    "\n",
    "CREATE EXTERNAL TABLE olist_cleansed_db.geolocation_tb \n",
    "(\n",
    "    geolocation_zip_code_prefix string,\n",
    "    geolocation_city string,\n",
    "    geolocation_state string,\n",
    "    geolocation_street string\n",
    " )\n",
    " ROW FORMAT DELIMITED FIELDS TERMINATED BY ','\n",
    " LINES TERMINATED BY '\\n'\n",
    " tblproperties(\"skip.header.line.count\"=\"1\");\n",
    "\n",
    "````\n",
    "\n",
    "<img src=\"files/geolocation_temp.png\" width=\"600\" height=\"300\" align=\"center\">\n",
    "\n",
    "##### 4.2) importando os dados da csv no datalake para a tabela temporária **geolocation_tb**\n",
    "\n",
    "````sql\n",
    "LOAD DATA INPATH '/datalake/olist/raw/csv/geolocation_cep_correios.csv'\n",
    "OVERWRITE INTO TABLE geolocation_tb;\n",
    "````\n",
    "\n",
    "*ATENÇÃO: Não foi possível verificar se o código acima funcionou pois ao executar o select count para checagem, o container encerrou inesperadamente.* \n",
    "\n",
    "###### 4.3) criando tabela definitiva **geolocation_external_tb**, particionada por UF, para armazenar os dados atualizados dos CEP\n",
    "\n",
    "````sql\n",
    "CREATE EXTERNAL TABLE olist_cleansed_db.geolocation_external_tb \n",
    "(\n",
    "    geolocation_zip_code_prefix string,\n",
    "    geolocation_city string,\n",
    "    geolocation_street string\n",
    " )\n",
    " PARTITION BY (geolocation_state string)\n",
    " ROW FORMAT DELIMITED FIELDS TERMINATED BY ','\n",
    " LOCATION '/datalake/olist/cleansed/geolocation_external_tb';\n",
    "````\n",
    "\n",
    "<img src=\"files/geolocation_partition.png\" width=\"600\" height=\"300\" align=\"center\">\n",
    "\n",
    "\n",
    "##### 4.4) carregando os dados da tabela temporária **geolocation_tb** para tabela definitiva **geolocation_external_tb**\n",
    "\n",
    "````sql\n",
    "INSERT OVERWRITE TABLE olist_cleansed_db.geolocation_external_tb PARTITION(geolocation_state) \n",
    "SELECT geolocation_zip_code_prefix, geolocation_city, geolocation_street, geolocation_state\n",
    "FROM  geolocation_tb;\n",
    "````\n",
    "\n",
    "*ATENÇÃO: Ao executar o código acima o container é encerrado inesperadamente* \n",
    "\n",
    "##### 4.5) removendo a tabela temporaria **geolocation_tb**\n",
    "\n",
    "````sql\n",
    "ALTER TABLE olist_cleansed_db.geolocation_tb SET TBLPROPERTIES('EXTERNAL'='FALSE') ;\n",
    "DROP TABLE olist_cleansed_db.geolocation_tb;\n",
    "SHOW TABLES;\n",
    "````\n",
    "\n",
    "*ATENÇÃO: Esse código não foi executado por conta do problema encontrado no item 4.4*"
   ]
  },
  {
   "cell_type": "code",
   "execution_count": null,
   "metadata": {},
   "outputs": [],
   "source": []
  }
 ],
 "metadata": {
  "kernelspec": {
   "display_name": "PySpark",
   "language": "python",
   "name": "pyspark"
  },
  "language_info": {
   "codemirror_mode": {
    "name": "ipython",
    "version": 3
   },
   "file_extension": ".py",
   "mimetype": "text/x-python",
   "name": "python",
   "nbconvert_exporter": "python",
   "pygments_lexer": "ipython3",
   "version": "3.6.10"
  }
 },
 "nbformat": 4,
 "nbformat_minor": 2
}
