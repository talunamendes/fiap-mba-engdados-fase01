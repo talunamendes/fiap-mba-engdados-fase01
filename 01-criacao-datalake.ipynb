{
 "cells": [
  {
   "cell_type": "markdown",
   "metadata": {},
   "source": [
    "\n",
    "### A) Criação do datalake no HDFS\n",
    "\n",
    "- Criação de estrutura de diretórios considerando datalake separado por domínio \n",
    "\n",
    "- Objetivo da estrutura do data lake mais detalhada é para deixar mais nítida a linhagem dos dados e o mapeamento de onde o dado está chegando e para onde ele está saindo\n",
    "\n",
    "- A separação por domínio, uso de técnicas de DDD (Domain Driven Design) e as camadas divididas de forma mais detalhada contruibuem para uma melhor gestão dos dados (MDM)\n",
    "\n",
    "<img src=\"files/datalake.png\" width=\"600\" height=\"300\" align=\"left\">\n"
   ]
  },
  {
   "cell_type": "code",
   "execution_count": 1,
   "metadata": {},
   "outputs": [],
   "source": [
    "import os\n",
    "import shutil"
   ]
  },
  {
   "cell_type": "code",
   "execution_count": 2,
   "metadata": {},
   "outputs": [
    {
     "data": {
      "text/plain": [
       "'/mnt/notebooks'"
      ]
     },
     "execution_count": 2,
     "metadata": {},
     "output_type": "execute_result"
    }
   ],
   "source": [
    "os.chdir(r'/mnt/notebooks') \n",
    "\n",
    "os.getcwd()"
   ]
  },
  {
   "cell_type": "code",
   "execution_count": 3,
   "metadata": {},
   "outputs": [],
   "source": [
    "if not os.path.exists(r'/mnt/notebooks/grupof'):\n",
    "    os.makedirs(r'/mnt/notebooks/grupof') \n",
    "    os.makedirs(r'/mnt/notebooks/grupof/olist') "
   ]
  },
  {
   "cell_type": "code",
   "execution_count": 4,
   "metadata": {},
   "outputs": [
    {
     "data": {
      "text/plain": [
       "'/mnt/notebooks/grupof/olist'"
      ]
     },
     "execution_count": 4,
     "metadata": {},
     "output_type": "execute_result"
    }
   ],
   "source": [
    "os.chdir(r'/mnt/notebooks/grupof/olist') \n",
    "\n",
    "os.getcwd()"
   ]
  },
  {
   "cell_type": "code",
   "execution_count": 5,
   "metadata": {},
   "outputs": [],
   "source": [
    "os.chdir(r'/mnt/notebooks/grupof/olist') \n",
    "\n",
    "! ls"
   ]
  },
  {
   "cell_type": "code",
   "execution_count": 6,
   "metadata": {},
   "outputs": [
    {
     "name": "stdout",
     "output_type": "stream",
     "text": [
      "Found 4 items\r\n",
      "drwxr-xr-x   - root supergroup          0 2022-05-03 01:25 /datalake\r\n",
      "drwxr-xr-x   - root supergroup          0 2022-04-23 06:40 /hbase\r\n",
      "drwxrwxr-x   - root supergroup          0 2022-04-04 23:42 /tmp\r\n",
      "drwxr-xr-x   - root supergroup          0 2022-04-04 23:41 /user\r\n"
     ]
    }
   ],
   "source": [
    "! hadoop fs -ls /"
   ]
  },
  {
   "cell_type": "code",
   "execution_count": 15,
   "metadata": {},
   "outputs": [
    {
     "name": "stdout",
     "output_type": "stream",
     "text": [
      "Deleted /datalake\n",
      "Found 3 items\n",
      "drwxr-xr-x   - root supergroup          0 2022-04-23 06:40 /hbase\n",
      "drwxrwxr-x   - root supergroup          0 2022-04-04 23:42 /tmp\n",
      "drwxr-xr-x   - root supergroup          0 2022-04-04 23:41 /user\n"
     ]
    }
   ],
   "source": [
    "! hadoop fs -rm -r /datalake\n",
    "\n",
    "! hadoop fs -ls /"
   ]
  },
  {
   "cell_type": "code",
   "execution_count": 16,
   "metadata": {},
   "outputs": [
    {
     "name": "stdout",
     "output_type": "stream",
     "text": [
      "Found 7 items\r\n",
      "drwxr-xr-x   - root supergroup          0 2022-05-21 00:34 /datalake/olist/cleansed\r\n",
      "drwxr-xr-x   - root supergroup          0 2022-05-21 00:34 /datalake/olist/consumption\r\n",
      "drwxr-xr-x   - root supergroup          0 2022-05-21 00:34 /datalake/olist/enriched\r\n",
      "drwxr-xr-x   - root supergroup          0 2022-05-21 00:34 /datalake/olist/experiment\r\n",
      "drwxr-xr-x   - root supergroup          0 2022-05-21 00:34 /datalake/olist/raw\r\n",
      "drwxr-xr-x   - root supergroup          0 2022-05-21 00:34 /datalake/olist/sandbox\r\n",
      "drwxr-xr-x   - root supergroup          0 2022-05-21 00:34 /datalake/olist/trusted\r\n"
     ]
    }
   ],
   "source": [
    "! hadoop fs -mkdir /datalake\n",
    "! hadoop fs -mkdir /datalake/olist\n",
    "! hadoop fs -mkdir /datalake/olist/raw\n",
    "! hadoop fs -mkdir /datalake/olist/raw/csv\n",
    "! hadoop fs -mkdir /datalake/olist/cleansed\n",
    "! hadoop fs -mkdir /datalake/olist/enriched\n",
    "! hadoop fs -mkdir /datalake/olist/consumption\n",
    "! hadoop fs -mkdir /datalake/olist/sandbox\n",
    "! hadoop fs -mkdir /datalake/olist/experiment\n",
    "! hadoop fs -mkdir /datalake/olist/trusted\n",
    "\n",
    "! hadoop fs -ls /datalake/olist"
   ]
  }
 ],
 "metadata": {
  "kernelspec": {
   "display_name": "PySpark",
   "language": "python",
   "name": "pyspark"
  },
  "language_info": {
   "codemirror_mode": {
    "name": "ipython",
    "version": 3
   },
   "file_extension": ".py",
   "mimetype": "text/x-python",
   "name": "python",
   "nbconvert_exporter": "python",
   "pygments_lexer": "ipython3",
   "version": "3.6.10"
  }
 },
 "nbformat": 4,
 "nbformat_minor": 2
}
