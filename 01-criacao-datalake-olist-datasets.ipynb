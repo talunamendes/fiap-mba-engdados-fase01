{
 "cells": [
  {
   "cell_type": "markdown",
   "metadata": {},
   "source": [
    "# 01 - Datalake no HDFS"
   ]
  },
  {
   "cell_type": "markdown",
   "metadata": {},
   "source": [
    "### A) Instalação do Kaggle\n",
    "\n",
    "Instalação do client do kaggle\n",
    "\n",
    "### B) Arquivo de credenciais do Kaggle\n",
    "\n",
    "Navegue até https://www.kaggle.com. Em seguida, vá para a aba Account do seu perfil de usuário e selecione Create API Token.\n",
    "\n",
    "Isso acionará o download de kaggle.json, um arquivo que contém suas credenciais de API. \n",
    "\n",
    "Salve o arquivo na pasta /mnt/notebooks\n",
    "\n",
    "### C) Download dos datasets do olist para disco local\n",
    "\n",
    "Download dos datasets usando Kaggle api\n",
    "\n",
    "### E) Criação do datalake no HDFS\n",
    "\n",
    "Criação de estrutura de diretórios considerando domínio \n",
    "\n",
    "### D) Datasets para o datalake no HDFS\n",
    "\n",
    "Cópia dos datasets do diretório local para dentro da estrutura do datalake"
   ]
  },
  {
   "cell_type": "code",
   "execution_count": 2,
   "metadata": {},
   "outputs": [
    {
     "name": "stdout",
     "output_type": "stream",
     "text": [
      "Requirement already satisfied: kaggle in /opt/anaconda3/lib/python3.6/site-packages (1.5.12)\n",
      "Requirement already satisfied: python-slugify in /opt/anaconda3/lib/python3.6/site-packages (from kaggle) (6.1.2)\n",
      "Requirement already satisfied: six>=1.10 in /opt/anaconda3/lib/python3.6/site-packages (from kaggle) (1.14.0)\n",
      "Requirement already satisfied: certifi in /opt/anaconda3/lib/python3.6/site-packages (from kaggle) (2019.11.28)\n",
      "Requirement already satisfied: python-dateutil in /opt/anaconda3/lib/python3.6/site-packages (from kaggle) (2.8.1)\n",
      "Requirement already satisfied: tqdm in /opt/anaconda3/lib/python3.6/site-packages (from kaggle) (4.64.0)\n",
      "Requirement already satisfied: requests in /opt/anaconda3/lib/python3.6/site-packages (from kaggle) (2.18.4)\n",
      "Requirement already satisfied: urllib3 in /opt/anaconda3/lib/python3.6/site-packages (from kaggle) (1.22)\n",
      "Requirement already satisfied: text-unidecode>=1.3 in /opt/anaconda3/lib/python3.6/site-packages (from python-slugify->kaggle) (1.3)\n",
      "Requirement already satisfied: importlib-resources; python_version < \"3.7\" in /opt/anaconda3/lib/python3.6/site-packages (from tqdm->kaggle) (5.4.0)\n",
      "Requirement already satisfied: chardet<3.1.0,>=3.0.2 in /opt/anaconda3/lib/python3.6/site-packages (from requests->kaggle) (3.0.4)\n",
      "Requirement already satisfied: idna<2.7,>=2.5 in /opt/anaconda3/lib/python3.6/site-packages (from requests->kaggle) (2.6)\n",
      "Requirement already satisfied: zipp>=3.1.0; python_version < \"3.10\" in /opt/anaconda3/lib/python3.6/site-packages (from importlib-resources; python_version < \"3.7\"->tqdm->kaggle) (3.6.0)\n"
     ]
    }
   ],
   "source": [
    "! pip install kaggle"
   ]
  },
  {
   "cell_type": "code",
   "execution_count": 3,
   "metadata": {},
   "outputs": [
    {
     "data": {
      "text/plain": [
       "'/root/.kaggle'"
      ]
     },
     "execution_count": 3,
     "metadata": {},
     "output_type": "execute_result"
    }
   ],
   "source": [
    "import os\n",
    "import shutil\n",
    "\n",
    "shutil.copy('kaggle.json', '/root/.kaggle/')\n",
    "\n",
    "os.chdir(r'/root/.kaggle')\n",
    "\n",
    "os.getcwd()"
   ]
  },
  {
   "cell_type": "code",
   "execution_count": 4,
   "metadata": {},
   "outputs": [
    {
     "data": {
      "text/plain": [
       "'/root/.kaggle'"
      ]
     },
     "execution_count": 4,
     "metadata": {},
     "output_type": "execute_result"
    }
   ],
   "source": [
    "if not os.path.exists(r'/root/.kaggle'):\n",
    "    os.makedirs(r'/root/.kaggle')\n",
    "    \n",
    "os.chdir(r'/root/.kaggle') \n",
    "    \n",
    "os.getcwd()"
   ]
  },
  {
   "cell_type": "code",
   "execution_count": 5,
   "metadata": {},
   "outputs": [
    {
     "data": {
      "text/plain": [
       "'/mnt/notebooks'"
      ]
     },
     "execution_count": 5,
     "metadata": {},
     "output_type": "execute_result"
    }
   ],
   "source": [
    "os.chdir(r'/mnt/notebooks') \n",
    "\n",
    "os.getcwd()"
   ]
  },
  {
   "cell_type": "code",
   "execution_count": 6,
   "metadata": {},
   "outputs": [],
   "source": [
    "if not os.path.exists(r'/mnt/notebooks/grupof'):\n",
    "    os.makedirs(r'/mnt/notebooks/grupof') \n",
    "    os.makedirs(r'/mnt/notebooks/grupof/olist') "
   ]
  },
  {
   "cell_type": "code",
   "execution_count": 7,
   "metadata": {},
   "outputs": [
    {
     "name": "stdout",
     "output_type": "stream",
     "text": [
      "01-criacao-datalake-olist-datasets.ipynb  grupof       spark-warehouse\tutil\r\n",
      "Untitled.ipynb\t\t\t\t  kaggle.json  teste.ipynb\r\n"
     ]
    }
   ],
   "source": [
    "! ls"
   ]
  },
  {
   "cell_type": "code",
   "execution_count": 8,
   "metadata": {},
   "outputs": [
    {
     "data": {
      "text/plain": [
       "'/mnt/notebooks/grupof/olist'"
      ]
     },
     "execution_count": 8,
     "metadata": {},
     "output_type": "execute_result"
    }
   ],
   "source": [
    "os.chdir(r'/mnt/notebooks/grupof/olist') \n",
    "\n",
    "os.getcwd()"
   ]
  },
  {
   "cell_type": "code",
   "execution_count": 9,
   "metadata": {},
   "outputs": [
    {
     "name": "stdout",
     "output_type": "stream",
     "text": [
      "Warning: Your Kaggle API key is readable by other users on this system! To fix this, you can run 'chmod 600 /root/.kaggle/kaggle.json'\n",
      "Downloading brazilian-ecommerce.zip to /mnt/notebooks/grupof/olist\n",
      "100%|██████████████████████████████████████| 42.6M/42.6M [00:12<00:00, 3.53MB/s]\n",
      "100%|██████████████████████████████████████| 42.6M/42.6M [00:12<00:00, 3.48MB/s]\n"
     ]
    }
   ],
   "source": [
    "! kaggle datasets download -d olistbr/brazilian-ecommerce"
   ]
  },
  {
   "cell_type": "code",
   "execution_count": 10,
   "metadata": {},
   "outputs": [],
   "source": [
    "import zipfile\n",
    "with zipfile.ZipFile(\"/mnt/notebooks/grupof/olist/brazilian-ecommerce.zip\", 'r') as zip_ref:\n",
    "    zip_ref.extractall('/mnt/notebooks/grupof/olist')"
   ]
  },
  {
   "cell_type": "code",
   "execution_count": 11,
   "metadata": {},
   "outputs": [
    {
     "name": "stdout",
     "output_type": "stream",
     "text": [
      "brazilian-ecommerce.zip\t\t  olist_order_reviews_dataset.csv\r\n",
      "olist_customers_dataset.csv\t  olist_orders_dataset.csv\r\n",
      "olist_geolocation_dataset.csv\t  olist_products_dataset.csv\r\n",
      "olist_order_items_dataset.csv\t  olist_sellers_dataset.csv\r\n",
      "olist_order_payments_dataset.csv  product_category_name_translation.csv\r\n"
     ]
    }
   ],
   "source": [
    "os.chdir(r'/mnt/notebooks/grupof/olist') \n",
    "\n",
    "! ls"
   ]
  },
  {
   "cell_type": "code",
   "execution_count": 12,
   "metadata": {},
   "outputs": [
    {
     "name": "stdout",
     "output_type": "stream",
     "text": [
      "olist_customers_dataset.csv\t  olist_orders_dataset.csv\r\n",
      "olist_geolocation_dataset.csv\t  olist_products_dataset.csv\r\n",
      "olist_order_items_dataset.csv\t  olist_sellers_dataset.csv\r\n",
      "olist_order_payments_dataset.csv  product_category_name_translation.csv\r\n",
      "olist_order_reviews_dataset.csv\r\n"
     ]
    }
   ],
   "source": [
    "! rm -f *.zip\n",
    "! ls"
   ]
  },
  {
   "cell_type": "code",
   "execution_count": 13,
   "metadata": {},
   "outputs": [
    {
     "name": "stdout",
     "output_type": "stream",
     "text": [
      "Found 4 items\r\n",
      "drwxr-xr-x   - root supergroup          0 2022-05-03 01:25 /datalake\r\n",
      "drwxr-xr-x   - root supergroup          0 2022-04-23 06:40 /hbase\r\n",
      "drwxrwxr-x   - root supergroup          0 2022-04-04 23:42 /tmp\r\n",
      "drwxr-xr-x   - root supergroup          0 2022-04-04 23:41 /user\r\n"
     ]
    }
   ],
   "source": [
    "! hadoop fs -ls /"
   ]
  },
  {
   "cell_type": "code",
   "execution_count": null,
   "metadata": {},
   "outputs": [],
   "source": [
    "! hadoop fs -mkdir /datalake\n",
    "! hadoop fs -mkdir /datalake/olist\n",
    "! hadoop fs -mkdir /datalake/olist/raw\n",
    "! hadoop fs -mkdir /datalake/olist/raw/csv\n",
    "! hadoop fs -mkdir /datalake/olist/cleansed\n",
    "! hadoop fs -mkdir /datalake/olist/enriched\n",
    "! hadoop fs -mkdir /datalake/olist/sandbox\n",
    "! hadoop fs -mkdir /datalake/olist/trusted"
   ]
  },
  {
   "cell_type": "code",
   "execution_count": 14,
   "metadata": {},
   "outputs": [
    {
     "name": "stdout",
     "output_type": "stream",
     "text": [
      "Found 5 items\r\n",
      "drwxr-xr-x   - root supergroup          0 2022-05-03 01:25 /datalake/olist/cleansed\r\n",
      "drwxr-xr-x   - root supergroup          0 2022-05-03 01:25 /datalake/olist/enriched\r\n",
      "drwxr-xr-x   - root supergroup          0 2022-05-03 03:19 /datalake/olist/raw\r\n",
      "drwxr-xr-x   - root supergroup          0 2022-05-03 01:25 /datalake/olist/sandbox\r\n",
      "drwxr-xr-x   - root supergroup          0 2022-05-03 01:25 /datalake/olist/trusted\r\n"
     ]
    }
   ],
   "source": [
    "! hadoop fs -ls /datalake/olist"
   ]
  },
  {
   "cell_type": "code",
   "execution_count": 16,
   "metadata": {},
   "outputs": [
    {
     "name": "stdout",
     "output_type": "stream",
     "text": [
      "Found 1 items\r\n",
      "drwxr-xr-x   - root supergroup          0 2022-05-03 03:19 /datalake/olist/raw/csv\r\n"
     ]
    }
   ],
   "source": [
    "! hadoop fs -ls /datalake/olist/raw"
   ]
  },
  {
   "cell_type": "code",
   "execution_count": 17,
   "metadata": {},
   "outputs": [],
   "source": [
    "! hadoop fs -put * /datalake/olist/raw/csv"
   ]
  },
  {
   "cell_type": "code",
   "execution_count": 18,
   "metadata": {},
   "outputs": [
    {
     "name": "stdout",
     "output_type": "stream",
     "text": [
      "Found 9 items\r\n",
      "-rw-r--r--   2 root supergroup    9033957 2022-05-03 03:30 /datalake/olist/raw/csv/olist_customers_dataset.csv\r\n",
      "-rw-r--r--   2 root supergroup   61273883 2022-05-03 03:30 /datalake/olist/raw/csv/olist_geolocation_dataset.csv\r\n",
      "-rw-r--r--   2 root supergroup   15438671 2022-05-03 03:30 /datalake/olist/raw/csv/olist_order_items_dataset.csv\r\n",
      "-rw-r--r--   2 root supergroup    5777138 2022-05-03 03:30 /datalake/olist/raw/csv/olist_order_payments_dataset.csv\r\n",
      "-rw-r--r--   2 root supergroup   14451670 2022-05-03 03:30 /datalake/olist/raw/csv/olist_order_reviews_dataset.csv\r\n",
      "-rw-r--r--   2 root supergroup   17654914 2022-05-03 03:30 /datalake/olist/raw/csv/olist_orders_dataset.csv\r\n",
      "-rw-r--r--   2 root supergroup    2379446 2022-05-03 03:30 /datalake/olist/raw/csv/olist_products_dataset.csv\r\n",
      "-rw-r--r--   2 root supergroup     174703 2022-05-03 03:30 /datalake/olist/raw/csv/olist_sellers_dataset.csv\r\n",
      "-rw-r--r--   2 root supergroup       2613 2022-05-03 03:30 /datalake/olist/raw/csv/product_category_name_translation.csv\r\n"
     ]
    }
   ],
   "source": [
    "! hadoop fs -ls /datalake/olist/raw/csv"
   ]
  }
 ],
 "metadata": {
  "kernelspec": {
   "display_name": "PySpark",
   "language": "python",
   "name": "pyspark"
  },
  "language_info": {
   "codemirror_mode": {
    "name": "ipython",
    "version": 3
   },
   "file_extension": ".py",
   "mimetype": "text/x-python",
   "name": "python",
   "nbconvert_exporter": "python",
   "pygments_lexer": "ipython3",
   "version": "3.6.10"
  }
 },
 "nbformat": 4,
 "nbformat_minor": 2
}
