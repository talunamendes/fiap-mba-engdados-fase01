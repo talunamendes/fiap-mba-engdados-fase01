{
 "cells": [
  {
   "cell_type": "markdown",
   "metadata": {},
   "source": [
    "### A) Instalação do Kaggle\n",
    "\n",
    "Instalação do client do kaggle API"
   ]
  },
  {
   "cell_type": "code",
   "execution_count": 1,
   "metadata": {},
   "outputs": [
    {
     "name": "stdout",
     "output_type": "stream",
     "text": [
      "Collecting kaggle\n",
      "  Downloading kaggle-1.5.12.tar.gz (58 kB)\n",
      "\u001b[K     |████████████████████████████████| 58 kB 3.5 MB/s eta 0:00:01\n",
      "\u001b[?25hRequirement already satisfied: six>=1.10 in /opt/anaconda3/lib/python3.6/site-packages (from kaggle) (1.14.0)\n",
      "Requirement already satisfied: certifi in /opt/anaconda3/lib/python3.6/site-packages (from kaggle) (2019.11.28)\n",
      "Requirement already satisfied: python-dateutil in /opt/anaconda3/lib/python3.6/site-packages (from kaggle) (2.8.1)\n",
      "Requirement already satisfied: requests in /opt/anaconda3/lib/python3.6/site-packages (from kaggle) (2.18.4)\n",
      "Collecting tqdm\n",
      "  Downloading tqdm-4.64.0-py2.py3-none-any.whl (78 kB)\n",
      "\u001b[K     |████████████████████████████████| 78 kB 8.4 MB/s  eta 0:00:01\n",
      "\u001b[?25hCollecting python-slugify\n",
      "  Downloading python_slugify-6.1.2-py2.py3-none-any.whl (9.4 kB)\n",
      "Requirement already satisfied: urllib3 in /opt/anaconda3/lib/python3.6/site-packages (from kaggle) (1.22)\n",
      "Requirement already satisfied: chardet<3.1.0,>=3.0.2 in /opt/anaconda3/lib/python3.6/site-packages (from requests->kaggle) (3.0.4)\n",
      "Requirement already satisfied: idna<2.7,>=2.5 in /opt/anaconda3/lib/python3.6/site-packages (from requests->kaggle) (2.6)\n",
      "Collecting importlib-resources; python_version < \"3.7\"\n",
      "  Downloading importlib_resources-5.4.0-py3-none-any.whl (28 kB)\n",
      "Collecting text-unidecode>=1.3\n",
      "  Downloading text_unidecode-1.3-py2.py3-none-any.whl (78 kB)\n",
      "\u001b[K     |████████████████████████████████| 78 kB 9.0 MB/s  eta 0:00:01\n",
      "\u001b[?25hCollecting zipp>=3.1.0; python_version < \"3.10\"\n",
      "  Downloading zipp-3.6.0-py3-none-any.whl (5.3 kB)\n",
      "Building wheels for collected packages: kaggle\n",
      "  Building wheel for kaggle (setup.py) ... \u001b[?25ldone\n",
      "\u001b[?25h  Created wheel for kaggle: filename=kaggle-1.5.12-py3-none-any.whl size=73053 sha256=f058fc94440a8da17ab520d87eae1fdb2463ae9c87a63da325322f8cf801bac6\n",
      "  Stored in directory: /root/.cache/pip/wheels/77/47/e4/44a4ba1b7dfd53faaa35f59f1175e123b213ff401a8a56876b\n",
      "Successfully built kaggle\n",
      "Installing collected packages: zipp, importlib-resources, tqdm, text-unidecode, python-slugify, kaggle\n",
      "Successfully installed importlib-resources-5.4.0 kaggle-1.5.12 python-slugify-6.1.2 text-unidecode-1.3 tqdm-4.64.0 zipp-3.6.0\n"
     ]
    }
   ],
   "source": [
    "! pip install kaggle"
   ]
  },
  {
   "cell_type": "markdown",
   "metadata": {},
   "source": [
    "### B) Arquivo de credenciais do Kaggle\n",
    "\n",
    "Navegue até https://www.kaggle.com. Em seguida, vá para a aba Account do seu perfil de usuário e selecione Create API Token.\n",
    "\n",
    "Isso acionará o download de kaggle.json, um arquivo que contém suas credenciais de API. \n",
    "\n",
    "Salve o arquivo na pasta /mnt/notebooks"
   ]
  },
  {
   "cell_type": "code",
   "execution_count": 9,
   "metadata": {},
   "outputs": [],
   "source": [
    "import os\n",
    "import shutil"
   ]
  },
  {
   "cell_type": "code",
   "execution_count": 6,
   "metadata": {},
   "outputs": [
    {
     "data": {
      "text/plain": [
       "'/root/.kaggle'"
      ]
     },
     "execution_count": 6,
     "metadata": {},
     "output_type": "execute_result"
    }
   ],
   "source": [
    "if not os.path.exists(r'/root/.kaggle'):\n",
    "    os.makedirs(r'/root/.kaggle')\n",
    "    \n",
    "os.chdir(r'/root/.kaggle') \n",
    "    \n",
    "os.getcwd()"
   ]
  },
  {
   "cell_type": "code",
   "execution_count": 8,
   "metadata": {},
   "outputs": [
    {
     "data": {
      "text/plain": [
       "'/root/.kaggle'"
      ]
     },
     "execution_count": 8,
     "metadata": {},
     "output_type": "execute_result"
    }
   ],
   "source": [
    "os.chdir(r'/mnt/notebooks') \n",
    "\n",
    "shutil.copy('kaggle.json', '/root/.kaggle/')\n",
    "\n",
    "os.chdir(r'/root/.kaggle')\n",
    "\n",
    "os.getcwd()"
   ]
  },
  {
   "cell_type": "markdown",
   "metadata": {},
   "source": [
    "### C) Download dos datasets do olist para disco local\n",
    "\n",
    "Download dos datasets usando Kaggle api"
   ]
  },
  {
   "cell_type": "code",
   "execution_count": 10,
   "metadata": {},
   "outputs": [],
   "source": [
    "if not os.path.exists(r'/mnt/notebooks/grupof'):\n",
    "    os.makedirs(r'/mnt/notebooks/grupof') \n",
    "    os.makedirs(r'/mnt/notebooks/grupof/olist') "
   ]
  },
  {
   "cell_type": "code",
   "execution_count": 11,
   "metadata": {},
   "outputs": [
    {
     "data": {
      "text/plain": [
       "'/mnt/notebooks/grupof/olist'"
      ]
     },
     "execution_count": 11,
     "metadata": {},
     "output_type": "execute_result"
    }
   ],
   "source": [
    "os.chdir(r'/mnt/notebooks/grupof/olist') \n",
    "\n",
    "os.getcwd()"
   ]
  },
  {
   "cell_type": "code",
   "execution_count": 12,
   "metadata": {},
   "outputs": [
    {
     "name": "stdout",
     "output_type": "stream",
     "text": [
      "Warning: Your Kaggle API key is readable by other users on this system! To fix this, you can run 'chmod 600 /root/.kaggle/kaggle.json'\n",
      "Downloading brazilian-ecommerce.zip to /mnt/notebooks/grupof/olist\n",
      "100%|██████████████████████████████████████| 42.6M/42.6M [00:04<00:00, 12.7MB/s]\n",
      "100%|██████████████████████████████████████| 42.6M/42.6M [00:04<00:00, 10.5MB/s]\n"
     ]
    }
   ],
   "source": [
    "! kaggle datasets download -d olistbr/brazilian-ecommerce"
   ]
  },
  {
   "cell_type": "code",
   "execution_count": 13,
   "metadata": {},
   "outputs": [],
   "source": [
    "import zipfile\n",
    "with zipfile.ZipFile(\"/mnt/notebooks/grupof/olist/brazilian-ecommerce.zip\", 'r') as zip_ref:\n",
    "    zip_ref.extractall('/mnt/notebooks/grupof/olist')"
   ]
  },
  {
   "cell_type": "code",
   "execution_count": 14,
   "metadata": {},
   "outputs": [
    {
     "name": "stdout",
     "output_type": "stream",
     "text": [
      "olist_customers_dataset.csv\t  olist_orders_dataset.csv\r\n",
      "olist_geolocation_dataset.csv\t  olist_products_dataset.csv\r\n",
      "olist_order_items_dataset.csv\t  olist_sellers_dataset.csv\r\n",
      "olist_order_payments_dataset.csv  product_category_name_translation.csv\r\n",
      "olist_order_reviews_dataset.csv\r\n"
     ]
    }
   ],
   "source": [
    "os.chdir(r'/mnt/notebooks/grupof/olist') \n",
    "\n",
    "! rm -f *.zip\n",
    "\n",
    "! ls /mnt/notebooks/grupof/olist"
   ]
  },
  {
   "cell_type": "markdown",
   "metadata": {},
   "source": [
    "### D) Datasets para o datalake no HDFS\n",
    "\n",
    "Cópia dos datasets do diretório local para dentro da estrutura do datalake"
   ]
  },
  {
   "cell_type": "code",
   "execution_count": 15,
   "metadata": {},
   "outputs": [
    {
     "name": "stdout",
     "output_type": "stream",
     "text": [
      "Found 9 items\r\n",
      "-rw-r--r--   2 root supergroup    9033957 2022-05-21 02:03 /datalake/olist/raw/csv/olist_customers_dataset.csv\r\n",
      "-rw-r--r--   2 root supergroup   61273883 2022-05-21 02:03 /datalake/olist/raw/csv/olist_geolocation_dataset.csv\r\n",
      "-rw-r--r--   2 root supergroup   15438671 2022-05-21 02:03 /datalake/olist/raw/csv/olist_order_items_dataset.csv\r\n",
      "-rw-r--r--   2 root supergroup    5777138 2022-05-21 02:03 /datalake/olist/raw/csv/olist_order_payments_dataset.csv\r\n",
      "-rw-r--r--   2 root supergroup   14451670 2022-05-21 02:03 /datalake/olist/raw/csv/olist_order_reviews_dataset.csv\r\n",
      "-rw-r--r--   2 root supergroup   17654914 2022-05-21 02:03 /datalake/olist/raw/csv/olist_orders_dataset.csv\r\n",
      "-rw-r--r--   2 root supergroup    2379446 2022-05-21 02:03 /datalake/olist/raw/csv/olist_products_dataset.csv\r\n",
      "-rw-r--r--   2 root supergroup     174703 2022-05-21 02:03 /datalake/olist/raw/csv/olist_sellers_dataset.csv\r\n",
      "-rw-r--r--   2 root supergroup       2613 2022-05-21 02:03 /datalake/olist/raw/csv/product_category_name_translation.csv\r\n"
     ]
    }
   ],
   "source": [
    "! hadoop fs -put * /datalake/olist/raw/csv\n",
    "\n",
    "! hadoop fs -ls /datalake/olist/raw/csv"
   ]
  }
 ],
 "metadata": {
  "kernelspec": {
   "display_name": "PySpark",
   "language": "python",
   "name": "pyspark"
  },
  "language_info": {
   "codemirror_mode": {
    "name": "ipython",
    "version": 3
   },
   "file_extension": ".py",
   "mimetype": "text/x-python",
   "name": "python",
   "nbconvert_exporter": "python",
   "pygments_lexer": "ipython3",
   "version": "3.6.10"
  }
 },
 "nbformat": 4,
 "nbformat_minor": 2
}
